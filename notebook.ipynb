{
  "cells": [
    {
      "cell_type": "markdown",
      "metadata": {
        "id": "view-in-github",
        "colab_type": "text"
      },
      "source": [
        "<a href=\"https://colab.research.google.com/github/Iagorrr04/neural-network-from-scratch/blob/main/notebook.ipynb\" target=\"_parent\"><img src=\"https://colab.research.google.com/assets/colab-badge.svg\" alt=\"Open In Colab\"/></a>"
      ]
    },
    {
      "cell_type": "markdown",
      "metadata": {
        "id": "z9dTjwqLAa0C"
      },
      "source": [
        "## 1. Import libs and frameworks"
      ]
    },
    {
      "cell_type": "code",
      "execution_count": null,
      "metadata": {
        "id": "fGOwjXzhAa0I"
      },
      "outputs": [],
      "source": [
        "import numpy # as np\n",
        "import pandas # as pd\n",
        "from matplotlib import pyplot\n",
        "import random"
      ]
    },
    {
      "cell_type": "markdown",
      "metadata": {
        "id": "NmvihFkYAa0K"
      },
      "source": [
        "## 2. Load data frame"
      ]
    },
    {
      "cell_type": "code",
      "execution_count": null,
      "metadata": {
        "id": "UcV5sUT7Aa0L",
        "outputId": "928e259c-7c31-450b-b438-0246e24d1d05"
      },
      "outputs": [
        {
          "name": "stdout",
          "output_type": "stream",
          "text": [
            "N: 785 M: 42000.\n"
          ]
        }
      ],
      "source": [
        "data = pandas.read_csv('./data/train.csv')\n",
        "data.head(100)\n",
        "data = numpy.array(data)\n",
        "M, N = data.shape\n",
        "print(f\"N: {N} M: {M}.\")\n",
        "numpy.random.shuffle(data)"
      ]
    },
    {
      "cell_type": "markdown",
      "metadata": {
        "id": "HLnVKuVLAa0N"
      },
      "source": [
        "## 3. Split between dev and train.\n",
        "As we want to work with arrays and linear algebra, an array will be more useful than a data frame.\n",
        "The suffle method here is just to avoid overfitting."
      ]
    },
    {
      "cell_type": "code",
      "execution_count": null,
      "metadata": {
        "id": "OcSG2ikhAa0O"
      },
      "outputs": [],
      "source": [
        "data_dev = data[0:1000].T\n",
        "Y_dev = data_dev[0]\n",
        "X_dev = data_dev[1:N]\n",
        "X_dev = X_dev /255\n",
        "\n",
        "data_train = data[1000:M].T\n",
        "Y_train = data_train[0]\n",
        "X_train = data_train[1:N]\n",
        "X_train = X_train / 255"
      ]
    },
    {
      "cell_type": "markdown",
      "metadata": {
        "id": "x2oLOTaxAa0P"
      },
      "source": [
        "## 4. Initialize parameters"
      ]
    },
    {
      "cell_type": "code",
      "execution_count": null,
      "metadata": {
        "id": "ZMJqKlqqAa0P"
      },
      "outputs": [],
      "source": [
        "def initialize_parameters():\n",
        "    W1 = numpy.random.rand(10, 784) -0.5\n",
        "    b1 = numpy.random.rand(10, 1) - 0.5\n",
        "    W2 = numpy.random.rand(10, 10) -0.5\n",
        "    b2 = numpy.random.rand(10, 1) - 0.5\n",
        "    \n",
        "    return W1, b1, W2, b2"
      ]
    },
    {
      "cell_type": "markdown",
      "metadata": {
        "id": "nnM84TV2Aa0P"
      },
      "source": [
        "## 5. Foward Propagation (train step 1)\n",
        "\n",
        "**Forward propagation**\n",
        "\n",
        "$$Z^{[1]} = W^{[1]} X + b^{[1]}$$\n",
        "$$A^{[1]} = g_{\\text{ReLU}}(Z^{[1]}))$$\n",
        "$$Z^{[2]} = W^{[2]} A^{[1]} + b^{[2]}$$\n",
        "$$A^{[2]} = g_{\\text{softmax}}(Z^{[2]})$$\n"
      ]
    },
    {
      "cell_type": "code",
      "execution_count": null,
      "metadata": {
        "id": "G3KrFeywAa0Q"
      },
      "outputs": [],
      "source": [
        "# Remember that every parameter here is actually an array.\n",
        "\n",
        "def ReLU(x):\n",
        "    return numpy.maximum(x, 0)\n",
        "\n",
        "def softmax(A):\n",
        "    A2 = numpy.exp(A) / sum(numpy.exp(A))\n",
        "    return A2\n",
        "    \n",
        "def foward_propagation(W1, b1, W2, b2, X):\n",
        "    Z1 = W1.dot(X)  + b1\n",
        "    A1 = ReLU(Z1)\n",
        "    Z2 = W2.dot(A1) + b2\n",
        "    A2 = softmax(Z2)\n",
        "\n",
        "    return Z1, A1, Z2, A2"
      ]
    },
    {
      "cell_type": "markdown",
      "metadata": {
        "id": "hpoMBULLAa0Q"
      },
      "source": [
        "## 6. Backward Propagation (train setp 2)\n",
        "\n",
        "**Backward propagation**\n",
        "\n",
        "$$dZ^{[2]} = A^{[2]} - Y$$\n",
        "$$dW^{[2]} = \\frac{1}{m} dZ^{[2]} A^{[1]T}$$\n",
        "$$dB^{[2]} = \\frac{1}{m} \\Sigma {dZ^{[2]}}$$\n",
        "$$dZ^{[1]} = W^{[2]T} dZ^{[2]} .* g^{[1]\\prime} (z^{[1]})$$\n",
        "$$dW^{[1]} = \\frac{1}{m} dZ^{[1]} A^{[0]T}$$\n",
        "$$dB^{[1]} = \\frac{1}{m} \\Sigma {dZ^{[1]}}$$\n",
        "\n"
      ]
    },
    {
      "cell_type": "code",
      "execution_count": null,
      "metadata": {
        "id": "gpsgrEteAa0R"
      },
      "outputs": [],
      "source": [
        "# derivative of the activation function in the layer 1.\n",
        "def derivative_ReLu(x):\n",
        "    return x > 0\n",
        "\n",
        "def one_hot(Y):\n",
        "    # array full of zeros\n",
        "    one_hot_Y = numpy.zeros((Y.size, Y.max()+1))\n",
        "    one_hot_Y[numpy.arange(Y.size), Y] = 1\n",
        "    one_hot_Y = one_hot_Y.T\n",
        "    return one_hot_Y\n",
        "\n",
        "def backward_propagation(Z1, A1, Z2, A2, W1, W2, X, Y):\n",
        "    one_hot_Y = one_hot(Y)\n",
        "    dZ2 = A2 - one_hot_Y\n",
        "    dW2 = (1 / M) * dZ2.dot(A1.T)\n",
        "    db2 = (1 / M) * numpy.sum(dZ2)\n",
        "    dZ1 = W2.T.dot(dZ2) * derivative_ReLu(Z1)\n",
        "    dW1 = (1 / M) * dZ1.dot(X.T)\n",
        "    db1 = (1 / M) * numpy.sum(dZ1)\n",
        "\n",
        "    return dW1, db1, dW2, db2\n"
      ]
    },
    {
      "cell_type": "markdown",
      "metadata": {
        "id": "oMJ-e5FoAa0S"
      },
      "source": [
        "## 7. Update Parameters (train step 3)\n",
        "\n",
        "**Parameter updates**\n",
        "\n",
        "$$W^{[2]} := W^{[2]} - \\alpha dW^{[2]}$$\n",
        "$$b^{[2]} := b^{[2]} - \\alpha db^{[2]}$$\n",
        "$$W^{[1]} := W^{[1]} - \\alpha dW^{[1]}$$\n",
        "$$b^{[1]} := b^{[1]} - \\alpha db^{[1]}$$\n"
      ]
    },
    {
      "cell_type": "code",
      "execution_count": null,
      "metadata": {
        "id": "HE2GRYHCAa0T"
      },
      "outputs": [],
      "source": [
        "def update_parameters(W1, b1, W2, b2, dW1, db1, dW2, db2, alpha):\n",
        "    W1 = W1 - alpha * dW1\n",
        "    b1 = b1 - alpha * db1\n",
        "    W2 = W2 - alpha * dW2\n",
        "    b2 = b2 - alpha * db2\n",
        "\n",
        "    return W1, b1, W2, b2"
      ]
    },
    {
      "cell_type": "markdown",
      "metadata": {
        "id": "zg6nwM_LAa0T"
      },
      "source": [
        "## 8. Gradient Descent."
      ]
    },
    {
      "cell_type": "code",
      "execution_count": null,
      "metadata": {
        "id": "4VAPLLD4Aa0T"
      },
      "outputs": [],
      "source": [
        "def get_predictions(A2):\n",
        "    return numpy.argmax(A2, 0)\n",
        "\n",
        "def get_accuracy(predictions, Y):\n",
        "    \"\"\"\n",
        "        Gets the total of predictions right and returns the accuracy.\n",
        "    \"\"\"\n",
        "    print(f\"Predictions {predictions} Y: {Y}\")\n",
        "    \n",
        "    return numpy.sum(predictions == Y) / Y.size\n",
        "    \n",
        "def gradient_descent(X, Y, alpha, iterations):\n",
        "    W1, b1, W2, b2 = initialize_parameters()\n",
        "\n",
        "    gradient_curve = {\"iteration\": [], \"accuracy\": []}\n",
        "    \n",
        "    for i in range(iterations):\n",
        "        Z1, A1, Z2, A2 = foward_propagation(W1, b1, W2, b2, X)\n",
        "        dW1, db1, dW2, db2 = backward_propagation(Z1, A1, Z2, A2, W1, W2, X, Y)\n",
        "        W1, b1, W2, b2 = update_parameters(W1, b1, W2, b2, dW1, db1, dW2, db2, alpha)\n",
        "        \n",
        "        current_accuracy = get_accuracy(get_predictions(A2), Y)\n",
        "\n",
        "        gradient_curve['iteration'].append(int(i))\n",
        "        gradient_curve['accuracy'].append(float(current_accuracy))\n",
        "\n",
        "        if i % 10 == 0:\n",
        "            print(f\"Iteration : {i} Accuracy : {current_accuracy}\")\n",
        "\n",
        "    # plot the graph iteration x accuracy\n",
        "    data_frame = pandas.DataFrame(gradient_curve, columns=['iteration', 'accuracy'])\n",
        "    data_frame.plot(x='iteration', y='accuracy', kind='line')\n",
        "    pyplot.show()\n",
        "\n",
        "    \n",
        "    return W1, b1, W2, b2"
      ]
    },
    {
      "cell_type": "markdown",
      "metadata": {
        "id": "D0L58tAOAa0T"
      },
      "source": [
        "## 9. Train !"
      ]
    },
    {
      "cell_type": "code",
      "execution_count": null,
      "metadata": {
        "id": "Q6_UhRggAa0U",
        "outputId": "98d92335-0035-419c-d66c-5284b9bbbe8a"
      },
      "outputs": [
        {
          "name": "stdout",
          "output_type": "stream",
          "text": [
            "Predictions [4 0 2 ... 2 0 1] Y: [0 0 3 ... 0 2 8]\n",
            "Iteration : 0 Accuracy : 0.14014634146341465\n",
            "Predictions [4 0 0 ... 2 0 1] Y: [0 0 3 ... 0 2 8]\n",
            "Predictions [4 0 9 ... 2 0 1] Y: [0 0 3 ... 0 2 8]\n",
            "Predictions [4 0 9 ... 2 7 1] Y: [0 0 3 ... 0 2 8]\n",
            "Predictions [4 0 9 ... 2 7 1] Y: [0 0 3 ... 0 2 8]\n",
            "Predictions [4 0 9 ... 0 7 1] Y: [0 0 3 ... 0 2 8]\n",
            "Predictions [4 0 9 ... 0 7 1] Y: [0 0 3 ... 0 2 8]\n",
            "Predictions [4 0 9 ... 0 7 1] Y: [0 0 3 ... 0 2 8]\n",
            "Predictions [4 0 9 ... 0 7 1] Y: [0 0 3 ... 0 2 8]\n",
            "Predictions [4 0 9 ... 0 7 1] Y: [0 0 3 ... 0 2 8]\n",
            "Predictions [4 0 9 ... 0 7 1] Y: [0 0 3 ... 0 2 8]\n",
            "Iteration : 10 Accuracy : 0.2506829268292683\n",
            "Predictions [4 0 9 ... 0 7 1] Y: [0 0 3 ... 0 2 8]\n",
            "Predictions [4 0 9 ... 0 7 1] Y: [0 0 3 ... 0 2 8]\n",
            "Predictions [4 0 9 ... 0 7 1] Y: [0 0 3 ... 0 2 8]\n",
            "Predictions [4 0 9 ... 0 7 1] Y: [0 0 3 ... 0 2 8]\n",
            "Predictions [4 0 9 ... 0 7 1] Y: [0 0 3 ... 0 2 8]\n",
            "Predictions [0 0 9 ... 0 7 1] Y: [0 0 3 ... 0 2 8]\n",
            "Predictions [0 0 9 ... 0 7 1] Y: [0 0 3 ... 0 2 8]\n",
            "Predictions [0 0 9 ... 0 4 1] Y: [0 0 3 ... 0 2 8]\n",
            "Predictions [0 0 9 ... 0 4 1] Y: [0 0 3 ... 0 2 8]\n",
            "Predictions [0 0 9 ... 0 4 1] Y: [0 0 3 ... 0 2 8]\n",
            "Iteration : 20 Accuracy : 0.35129268292682925\n",
            "Predictions [0 0 9 ... 0 4 1] Y: [0 0 3 ... 0 2 8]\n",
            "Predictions [0 0 9 ... 0 4 1] Y: [0 0 3 ... 0 2 8]\n",
            "Predictions [0 0 9 ... 0 4 1] Y: [0 0 3 ... 0 2 8]\n",
            "Predictions [0 0 9 ... 0 4 1] Y: [0 0 3 ... 0 2 8]\n",
            "Predictions [0 0 9 ... 0 4 1] Y: [0 0 3 ... 0 2 8]\n",
            "Predictions [0 0 9 ... 0 4 1] Y: [0 0 3 ... 0 2 8]\n",
            "Predictions [0 0 9 ... 0 4 1] Y: [0 0 3 ... 0 2 8]\n",
            "Predictions [0 0 9 ... 0 4 1] Y: [0 0 3 ... 0 2 8]\n",
            "Predictions [0 0 9 ... 0 4 1] Y: [0 0 3 ... 0 2 8]\n",
            "Predictions [0 0 9 ... 0 4 1] Y: [0 0 3 ... 0 2 8]\n",
            "Iteration : 30 Accuracy : 0.42441463414634145\n",
            "Predictions [0 0 9 ... 0 4 1] Y: [0 0 3 ... 0 2 8]\n",
            "Predictions [0 0 9 ... 0 4 1] Y: [0 0 3 ... 0 2 8]\n",
            "Predictions [0 0 9 ... 0 4 1] Y: [0 0 3 ... 0 2 8]\n",
            "Predictions [0 0 9 ... 0 4 1] Y: [0 0 3 ... 0 2 8]\n",
            "Predictions [0 0 9 ... 0 4 1] Y: [0 0 3 ... 0 2 8]\n",
            "Predictions [0 0 9 ... 0 4 1] Y: [0 0 3 ... 0 2 8]\n",
            "Predictions [0 0 9 ... 0 4 1] Y: [0 0 3 ... 0 2 8]\n",
            "Predictions [0 0 9 ... 0 4 1] Y: [0 0 3 ... 0 2 8]\n",
            "Predictions [0 0 9 ... 0 4 1] Y: [0 0 3 ... 0 2 8]\n",
            "Predictions [0 0 9 ... 0 4 1] Y: [0 0 3 ... 0 2 8]\n",
            "Iteration : 40 Accuracy : 0.48765853658536584\n",
            "Predictions [0 0 9 ... 0 4 1] Y: [0 0 3 ... 0 2 8]\n",
            "Predictions [0 0 9 ... 0 4 1] Y: [0 0 3 ... 0 2 8]\n",
            "Predictions [0 0 9 ... 0 4 1] Y: [0 0 3 ... 0 2 8]\n",
            "Predictions [0 0 9 ... 0 4 1] Y: [0 0 3 ... 0 2 8]\n",
            "Predictions [0 0 9 ... 0 4 1] Y: [0 0 3 ... 0 2 8]\n",
            "Predictions [0 0 9 ... 0 4 1] Y: [0 0 3 ... 0 2 8]\n",
            "Predictions [0 0 9 ... 0 4 1] Y: [0 0 3 ... 0 2 8]\n",
            "Predictions [0 0 9 ... 0 4 1] Y: [0 0 3 ... 0 2 8]\n",
            "Predictions [0 0 9 ... 0 4 1] Y: [0 0 3 ... 0 2 8]\n",
            "Predictions [0 0 9 ... 0 4 1] Y: [0 0 3 ... 0 2 8]\n",
            "Iteration : 50 Accuracy : 0.5387804878048781\n",
            "Predictions [0 0 9 ... 0 4 1] Y: [0 0 3 ... 0 2 8]\n",
            "Predictions [0 0 9 ... 0 4 1] Y: [0 0 3 ... 0 2 8]\n",
            "Predictions [0 0 9 ... 0 4 1] Y: [0 0 3 ... 0 2 8]\n",
            "Predictions [0 0 9 ... 0 4 1] Y: [0 0 3 ... 0 2 8]\n",
            "Predictions [0 0 9 ... 0 4 1] Y: [0 0 3 ... 0 2 8]\n",
            "Predictions [0 0 9 ... 0 4 1] Y: [0 0 3 ... 0 2 8]\n",
            "Predictions [0 0 9 ... 0 4 1] Y: [0 0 3 ... 0 2 8]\n",
            "Predictions [0 0 9 ... 0 4 1] Y: [0 0 3 ... 0 2 8]\n",
            "Predictions [0 0 9 ... 0 4 1] Y: [0 0 3 ... 0 2 8]\n",
            "Predictions [0 0 9 ... 0 4 1] Y: [0 0 3 ... 0 2 8]\n",
            "Iteration : 60 Accuracy : 0.5819512195121951\n",
            "Predictions [0 0 9 ... 0 4 1] Y: [0 0 3 ... 0 2 8]\n",
            "Predictions [0 0 9 ... 0 4 1] Y: [0 0 3 ... 0 2 8]\n",
            "Predictions [0 0 9 ... 0 4 1] Y: [0 0 3 ... 0 2 8]\n",
            "Predictions [0 0 9 ... 0 4 1] Y: [0 0 3 ... 0 2 8]\n",
            "Predictions [0 0 9 ... 0 4 1] Y: [0 0 3 ... 0 2 8]\n",
            "Predictions [0 0 9 ... 0 4 1] Y: [0 0 3 ... 0 2 8]\n",
            "Predictions [0 0 9 ... 0 4 1] Y: [0 0 3 ... 0 2 8]\n",
            "Predictions [0 0 9 ... 0 4 1] Y: [0 0 3 ... 0 2 8]\n",
            "Predictions [0 0 9 ... 0 4 1] Y: [0 0 3 ... 0 2 8]\n",
            "Predictions [0 0 9 ... 0 2 1] Y: [0 0 3 ... 0 2 8]\n",
            "Iteration : 70 Accuracy : 0.618780487804878\n",
            "Predictions [0 0 9 ... 0 2 1] Y: [0 0 3 ... 0 2 8]\n",
            "Predictions [0 0 9 ... 0 2 1] Y: [0 0 3 ... 0 2 8]\n",
            "Predictions [0 0 9 ... 0 2 1] Y: [0 0 3 ... 0 2 8]\n",
            "Predictions [0 0 9 ... 0 2 1] Y: [0 0 3 ... 0 2 8]\n",
            "Predictions [0 0 9 ... 0 2 1] Y: [0 0 3 ... 0 2 8]\n",
            "Predictions [0 0 9 ... 0 2 1] Y: [0 0 3 ... 0 2 8]\n",
            "Predictions [0 0 9 ... 0 2 1] Y: [0 0 3 ... 0 2 8]\n",
            "Predictions [0 0 9 ... 0 2 1] Y: [0 0 3 ... 0 2 8]\n",
            "Predictions [0 0 9 ... 0 2 1] Y: [0 0 3 ... 0 2 8]\n",
            "Predictions [0 0 9 ... 0 2 1] Y: [0 0 3 ... 0 2 8]\n",
            "Iteration : 80 Accuracy : 0.6502439024390244\n",
            "Predictions [0 0 9 ... 0 2 1] Y: [0 0 3 ... 0 2 8]\n",
            "Predictions [0 0 9 ... 0 2 1] Y: [0 0 3 ... 0 2 8]\n",
            "Predictions [0 0 9 ... 0 2 1] Y: [0 0 3 ... 0 2 8]\n",
            "Predictions [0 0 9 ... 0 2 1] Y: [0 0 3 ... 0 2 8]\n",
            "Predictions [0 0 9 ... 0 2 1] Y: [0 0 3 ... 0 2 8]\n",
            "Predictions [0 0 9 ... 0 2 1] Y: [0 0 3 ... 0 2 8]\n",
            "Predictions [0 0 9 ... 0 2 1] Y: [0 0 3 ... 0 2 8]\n",
            "Predictions [0 0 9 ... 0 2 1] Y: [0 0 3 ... 0 2 8]\n",
            "Predictions [0 0 9 ... 0 2 1] Y: [0 0 3 ... 0 2 8]\n",
            "Predictions [0 0 9 ... 0 2 1] Y: [0 0 3 ... 0 2 8]\n",
            "Iteration : 90 Accuracy : 0.675\n",
            "Predictions [0 0 9 ... 0 2 1] Y: [0 0 3 ... 0 2 8]\n",
            "Predictions [0 0 9 ... 0 2 1] Y: [0 0 3 ... 0 2 8]\n",
            "Predictions [0 0 9 ... 0 2 1] Y: [0 0 3 ... 0 2 8]\n",
            "Predictions [0 0 9 ... 0 2 1] Y: [0 0 3 ... 0 2 8]\n",
            "Predictions [0 0 9 ... 0 2 1] Y: [0 0 3 ... 0 2 8]\n",
            "Predictions [0 0 9 ... 0 2 1] Y: [0 0 3 ... 0 2 8]\n",
            "Predictions [0 0 9 ... 0 2 1] Y: [0 0 3 ... 0 2 8]\n",
            "Predictions [0 0 9 ... 0 2 1] Y: [0 0 3 ... 0 2 8]\n",
            "Predictions [0 0 9 ... 0 2 1] Y: [0 0 3 ... 0 2 8]\n",
            "Predictions [0 0 9 ... 0 2 1] Y: [0 0 3 ... 0 2 8]\n",
            "Iteration : 100 Accuracy : 0.6975365853658536\n",
            "Predictions [0 0 9 ... 0 2 1] Y: [0 0 3 ... 0 2 8]\n",
            "Predictions [0 0 9 ... 0 2 1] Y: [0 0 3 ... 0 2 8]\n",
            "Predictions [0 0 9 ... 0 2 1] Y: [0 0 3 ... 0 2 8]\n",
            "Predictions [0 0 9 ... 0 2 1] Y: [0 0 3 ... 0 2 8]\n",
            "Predictions [0 0 9 ... 0 2 1] Y: [0 0 3 ... 0 2 8]\n",
            "Predictions [0 0 9 ... 0 2 1] Y: [0 0 3 ... 0 2 8]\n",
            "Predictions [0 0 9 ... 0 2 1] Y: [0 0 3 ... 0 2 8]\n",
            "Predictions [0 0 9 ... 0 2 1] Y: [0 0 3 ... 0 2 8]\n",
            "Predictions [0 0 9 ... 0 2 1] Y: [0 0 3 ... 0 2 8]\n",
            "Predictions [0 0 9 ... 0 2 1] Y: [0 0 3 ... 0 2 8]\n",
            "Iteration : 110 Accuracy : 0.7144634146341463\n",
            "Predictions [0 0 9 ... 0 2 1] Y: [0 0 3 ... 0 2 8]\n",
            "Predictions [0 0 9 ... 0 2 1] Y: [0 0 3 ... 0 2 8]\n",
            "Predictions [0 0 9 ... 0 2 1] Y: [0 0 3 ... 0 2 8]\n",
            "Predictions [0 0 9 ... 0 2 1] Y: [0 0 3 ... 0 2 8]\n",
            "Predictions [0 0 9 ... 0 2 1] Y: [0 0 3 ... 0 2 8]\n",
            "Predictions [0 0 9 ... 0 2 1] Y: [0 0 3 ... 0 2 8]\n",
            "Predictions [0 0 9 ... 0 2 1] Y: [0 0 3 ... 0 2 8]\n",
            "Predictions [0 0 9 ... 0 2 1] Y: [0 0 3 ... 0 2 8]\n",
            "Predictions [0 0 9 ... 0 2 1] Y: [0 0 3 ... 0 2 8]\n",
            "Predictions [0 0 9 ... 0 2 1] Y: [0 0 3 ... 0 2 8]\n",
            "Iteration : 120 Accuracy : 0.729\n",
            "Predictions [0 0 9 ... 0 2 1] Y: [0 0 3 ... 0 2 8]\n",
            "Predictions [0 0 9 ... 0 2 1] Y: [0 0 3 ... 0 2 8]\n",
            "Predictions [0 0 9 ... 0 2 1] Y: [0 0 3 ... 0 2 8]\n",
            "Predictions [0 0 9 ... 0 2 1] Y: [0 0 3 ... 0 2 8]\n",
            "Predictions [0 0 9 ... 0 2 1] Y: [0 0 3 ... 0 2 8]\n",
            "Predictions [0 0 9 ... 0 2 1] Y: [0 0 3 ... 0 2 8]\n",
            "Predictions [0 0 9 ... 0 2 1] Y: [0 0 3 ... 0 2 8]\n",
            "Predictions [0 0 9 ... 0 2 1] Y: [0 0 3 ... 0 2 8]\n",
            "Predictions [0 0 9 ... 0 2 1] Y: [0 0 3 ... 0 2 8]\n",
            "Predictions [0 0 9 ... 0 2 1] Y: [0 0 3 ... 0 2 8]\n",
            "Iteration : 130 Accuracy : 0.7426585365853658\n",
            "Predictions [0 0 9 ... 0 2 1] Y: [0 0 3 ... 0 2 8]\n",
            "Predictions [0 0 9 ... 0 2 1] Y: [0 0 3 ... 0 2 8]\n",
            "Predictions [0 0 9 ... 0 2 1] Y: [0 0 3 ... 0 2 8]\n",
            "Predictions [0 0 9 ... 0 2 1] Y: [0 0 3 ... 0 2 8]\n",
            "Predictions [0 0 9 ... 0 2 1] Y: [0 0 3 ... 0 2 8]\n",
            "Predictions [0 0 9 ... 0 2 1] Y: [0 0 3 ... 0 2 8]\n",
            "Predictions [0 0 9 ... 0 2 1] Y: [0 0 3 ... 0 2 8]\n",
            "Predictions [0 0 9 ... 0 2 1] Y: [0 0 3 ... 0 2 8]\n",
            "Predictions [0 0 9 ... 0 2 2] Y: [0 0 3 ... 0 2 8]\n",
            "Predictions [0 0 9 ... 0 2 2] Y: [0 0 3 ... 0 2 8]\n",
            "Iteration : 140 Accuracy : 0.7533658536585366\n",
            "Predictions [0 0 9 ... 0 2 2] Y: [0 0 3 ... 0 2 8]\n",
            "Predictions [0 0 9 ... 0 2 2] Y: [0 0 3 ... 0 2 8]\n",
            "Predictions [0 0 9 ... 0 2 2] Y: [0 0 3 ... 0 2 8]\n",
            "Predictions [0 0 9 ... 0 2 2] Y: [0 0 3 ... 0 2 8]\n",
            "Predictions [0 0 9 ... 0 2 2] Y: [0 0 3 ... 0 2 8]\n",
            "Predictions [0 0 9 ... 0 2 2] Y: [0 0 3 ... 0 2 8]\n",
            "Predictions [0 0 9 ... 0 2 2] Y: [0 0 3 ... 0 2 8]\n",
            "Predictions [0 0 9 ... 0 2 2] Y: [0 0 3 ... 0 2 8]\n",
            "Predictions [0 0 9 ... 0 2 2] Y: [0 0 3 ... 0 2 8]\n",
            "Predictions [0 0 9 ... 0 2 2] Y: [0 0 3 ... 0 2 8]\n",
            "Iteration : 150 Accuracy : 0.7629756097560976\n",
            "Predictions [0 0 9 ... 0 2 2] Y: [0 0 3 ... 0 2 8]\n",
            "Predictions [0 0 9 ... 0 2 2] Y: [0 0 3 ... 0 2 8]\n",
            "Predictions [0 0 9 ... 0 2 2] Y: [0 0 3 ... 0 2 8]\n",
            "Predictions [0 0 9 ... 0 2 2] Y: [0 0 3 ... 0 2 8]\n",
            "Predictions [0 0 9 ... 0 2 2] Y: [0 0 3 ... 0 2 8]\n",
            "Predictions [0 0 9 ... 0 2 2] Y: [0 0 3 ... 0 2 8]\n",
            "Predictions [0 0 9 ... 0 2 2] Y: [0 0 3 ... 0 2 8]\n",
            "Predictions [0 0 9 ... 0 2 2] Y: [0 0 3 ... 0 2 8]\n",
            "Predictions [0 0 9 ... 0 2 2] Y: [0 0 3 ... 0 2 8]\n",
            "Predictions [0 0 9 ... 0 2 2] Y: [0 0 3 ... 0 2 8]\n",
            "Iteration : 160 Accuracy : 0.7719756097560976\n",
            "Predictions [0 0 9 ... 0 2 2] Y: [0 0 3 ... 0 2 8]\n",
            "Predictions [0 0 9 ... 0 2 2] Y: [0 0 3 ... 0 2 8]\n",
            "Predictions [0 0 9 ... 0 2 2] Y: [0 0 3 ... 0 2 8]\n",
            "Predictions [0 0 9 ... 0 2 2] Y: [0 0 3 ... 0 2 8]\n",
            "Predictions [0 0 9 ... 0 2 2] Y: [0 0 3 ... 0 2 8]\n",
            "Predictions [0 0 9 ... 0 2 2] Y: [0 0 3 ... 0 2 8]\n",
            "Predictions [0 0 9 ... 0 2 2] Y: [0 0 3 ... 0 2 8]\n",
            "Predictions [0 0 3 ... 0 2 2] Y: [0 0 3 ... 0 2 8]\n",
            "Predictions [0 0 3 ... 0 2 2] Y: [0 0 3 ... 0 2 8]\n",
            "Predictions [0 0 3 ... 0 2 2] Y: [0 0 3 ... 0 2 8]\n",
            "Iteration : 170 Accuracy : 0.7794390243902439\n",
            "Predictions [0 0 3 ... 0 2 2] Y: [0 0 3 ... 0 2 8]\n",
            "Predictions [0 0 3 ... 0 2 2] Y: [0 0 3 ... 0 2 8]\n",
            "Predictions [0 0 3 ... 0 2 2] Y: [0 0 3 ... 0 2 8]\n",
            "Predictions [0 0 3 ... 0 2 2] Y: [0 0 3 ... 0 2 8]\n",
            "Predictions [0 0 3 ... 0 2 2] Y: [0 0 3 ... 0 2 8]\n",
            "Predictions [0 0 3 ... 0 2 2] Y: [0 0 3 ... 0 2 8]\n",
            "Predictions [0 0 3 ... 0 2 2] Y: [0 0 3 ... 0 2 8]\n",
            "Predictions [0 0 3 ... 0 2 2] Y: [0 0 3 ... 0 2 8]\n",
            "Predictions [0 0 3 ... 0 2 2] Y: [0 0 3 ... 0 2 8]\n",
            "Predictions [0 0 3 ... 0 2 2] Y: [0 0 3 ... 0 2 8]\n",
            "Iteration : 180 Accuracy : 0.7864878048780488\n",
            "Predictions [0 0 3 ... 0 2 2] Y: [0 0 3 ... 0 2 8]\n",
            "Predictions [0 0 3 ... 0 2 2] Y: [0 0 3 ... 0 2 8]\n",
            "Predictions [0 0 3 ... 0 2 8] Y: [0 0 3 ... 0 2 8]\n",
            "Predictions [0 0 3 ... 0 2 8] Y: [0 0 3 ... 0 2 8]\n",
            "Predictions [0 0 3 ... 0 2 8] Y: [0 0 3 ... 0 2 8]\n",
            "Predictions [0 0 3 ... 0 2 8] Y: [0 0 3 ... 0 2 8]\n",
            "Predictions [0 0 3 ... 0 2 8] Y: [0 0 3 ... 0 2 8]\n",
            "Predictions [0 0 3 ... 0 2 8] Y: [0 0 3 ... 0 2 8]\n",
            "Predictions [0 0 3 ... 0 2 8] Y: [0 0 3 ... 0 2 8]\n",
            "Predictions [0 0 3 ... 0 2 8] Y: [0 0 3 ... 0 2 8]\n",
            "Iteration : 190 Accuracy : 0.7923902439024391\n",
            "Predictions [0 0 3 ... 0 2 8] Y: [0 0 3 ... 0 2 8]\n",
            "Predictions [0 0 3 ... 0 2 8] Y: [0 0 3 ... 0 2 8]\n",
            "Predictions [0 0 3 ... 0 2 8] Y: [0 0 3 ... 0 2 8]\n",
            "Predictions [0 0 3 ... 0 2 8] Y: [0 0 3 ... 0 2 8]\n",
            "Predictions [0 0 3 ... 0 2 8] Y: [0 0 3 ... 0 2 8]\n",
            "Predictions [0 0 3 ... 0 2 8] Y: [0 0 3 ... 0 2 8]\n",
            "Predictions [0 0 3 ... 0 2 8] Y: [0 0 3 ... 0 2 8]\n",
            "Predictions [0 0 3 ... 0 2 8] Y: [0 0 3 ... 0 2 8]\n",
            "Predictions [0 0 3 ... 0 2 8] Y: [0 0 3 ... 0 2 8]\n",
            "Predictions [0 0 3 ... 0 2 8] Y: [0 0 3 ... 0 2 8]\n",
            "Iteration : 200 Accuracy : 0.7980243902439025\n",
            "Predictions [0 0 3 ... 0 2 8] Y: [0 0 3 ... 0 2 8]\n",
            "Predictions [0 0 3 ... 0 2 8] Y: [0 0 3 ... 0 2 8]\n",
            "Predictions [0 0 3 ... 0 2 8] Y: [0 0 3 ... 0 2 8]\n",
            "Predictions [0 0 3 ... 0 2 8] Y: [0 0 3 ... 0 2 8]\n",
            "Predictions [0 0 3 ... 0 2 8] Y: [0 0 3 ... 0 2 8]\n",
            "Predictions [0 0 3 ... 0 2 8] Y: [0 0 3 ... 0 2 8]\n",
            "Predictions [0 0 3 ... 0 2 8] Y: [0 0 3 ... 0 2 8]\n",
            "Predictions [0 0 3 ... 0 2 8] Y: [0 0 3 ... 0 2 8]\n",
            "Predictions [0 0 3 ... 0 2 8] Y: [0 0 3 ... 0 2 8]\n",
            "Predictions [0 0 3 ... 0 2 8] Y: [0 0 3 ... 0 2 8]\n",
            "Iteration : 210 Accuracy : 0.8030487804878049\n",
            "Predictions [0 0 3 ... 0 2 8] Y: [0 0 3 ... 0 2 8]\n",
            "Predictions [0 0 3 ... 0 2 8] Y: [0 0 3 ... 0 2 8]\n",
            "Predictions [0 0 3 ... 0 2 8] Y: [0 0 3 ... 0 2 8]\n",
            "Predictions [0 0 3 ... 0 2 8] Y: [0 0 3 ... 0 2 8]\n",
            "Predictions [0 0 3 ... 0 2 8] Y: [0 0 3 ... 0 2 8]\n",
            "Predictions [0 0 3 ... 0 2 8] Y: [0 0 3 ... 0 2 8]\n",
            "Predictions [0 0 3 ... 0 2 8] Y: [0 0 3 ... 0 2 8]\n",
            "Predictions [0 0 3 ... 0 2 8] Y: [0 0 3 ... 0 2 8]\n",
            "Predictions [0 0 3 ... 0 2 8] Y: [0 0 3 ... 0 2 8]\n",
            "Predictions [0 0 3 ... 0 2 8] Y: [0 0 3 ... 0 2 8]\n",
            "Iteration : 220 Accuracy : 0.8070731707317074\n",
            "Predictions [0 0 3 ... 0 2 8] Y: [0 0 3 ... 0 2 8]\n",
            "Predictions [0 0 3 ... 0 2 8] Y: [0 0 3 ... 0 2 8]\n",
            "Predictions [0 0 3 ... 0 2 8] Y: [0 0 3 ... 0 2 8]\n",
            "Predictions [0 0 3 ... 0 2 8] Y: [0 0 3 ... 0 2 8]\n",
            "Predictions [0 0 3 ... 0 2 8] Y: [0 0 3 ... 0 2 8]\n",
            "Predictions [0 0 3 ... 0 2 8] Y: [0 0 3 ... 0 2 8]\n",
            "Predictions [0 0 3 ... 0 2 8] Y: [0 0 3 ... 0 2 8]\n",
            "Predictions [0 0 3 ... 0 2 8] Y: [0 0 3 ... 0 2 8]\n",
            "Predictions [0 0 3 ... 0 2 8] Y: [0 0 3 ... 0 2 8]\n",
            "Predictions [0 0 3 ... 0 2 8] Y: [0 0 3 ... 0 2 8]\n",
            "Iteration : 230 Accuracy : 0.8113658536585366\n",
            "Predictions [0 0 3 ... 0 2 8] Y: [0 0 3 ... 0 2 8]\n",
            "Predictions [0 0 3 ... 0 2 8] Y: [0 0 3 ... 0 2 8]\n",
            "Predictions [0 0 3 ... 0 2 8] Y: [0 0 3 ... 0 2 8]\n",
            "Predictions [0 0 3 ... 0 2 8] Y: [0 0 3 ... 0 2 8]\n",
            "Predictions [0 0 3 ... 0 2 8] Y: [0 0 3 ... 0 2 8]\n",
            "Predictions [0 0 3 ... 0 2 8] Y: [0 0 3 ... 0 2 8]\n",
            "Predictions [0 0 3 ... 0 2 8] Y: [0 0 3 ... 0 2 8]\n",
            "Predictions [0 0 3 ... 0 2 8] Y: [0 0 3 ... 0 2 8]\n",
            "Predictions [0 0 3 ... 0 2 8] Y: [0 0 3 ... 0 2 8]\n",
            "Predictions [0 0 3 ... 0 2 8] Y: [0 0 3 ... 0 2 8]\n",
            "Iteration : 240 Accuracy : 0.8155121951219512\n",
            "Predictions [0 0 3 ... 0 2 8] Y: [0 0 3 ... 0 2 8]\n",
            "Predictions [0 0 3 ... 0 2 8] Y: [0 0 3 ... 0 2 8]\n",
            "Predictions [0 0 3 ... 0 2 8] Y: [0 0 3 ... 0 2 8]\n",
            "Predictions [0 0 3 ... 0 2 8] Y: [0 0 3 ... 0 2 8]\n",
            "Predictions [0 0 3 ... 0 2 8] Y: [0 0 3 ... 0 2 8]\n",
            "Predictions [0 0 3 ... 0 2 8] Y: [0 0 3 ... 0 2 8]\n",
            "Predictions [0 0 3 ... 0 2 8] Y: [0 0 3 ... 0 2 8]\n",
            "Predictions [0 0 3 ... 0 2 8] Y: [0 0 3 ... 0 2 8]\n",
            "Predictions [0 0 3 ... 0 2 8] Y: [0 0 3 ... 0 2 8]\n",
            "Predictions [0 0 3 ... 0 2 8] Y: [0 0 3 ... 0 2 8]\n",
            "Iteration : 250 Accuracy : 0.8192926829268292\n",
            "Predictions [0 0 3 ... 0 2 8] Y: [0 0 3 ... 0 2 8]\n",
            "Predictions [0 0 3 ... 0 2 8] Y: [0 0 3 ... 0 2 8]\n",
            "Predictions [0 0 3 ... 0 2 8] Y: [0 0 3 ... 0 2 8]\n",
            "Predictions [0 0 3 ... 0 2 8] Y: [0 0 3 ... 0 2 8]\n",
            "Predictions [0 0 3 ... 0 2 8] Y: [0 0 3 ... 0 2 8]\n",
            "Predictions [0 0 3 ... 0 2 8] Y: [0 0 3 ... 0 2 8]\n",
            "Predictions [0 0 3 ... 0 2 8] Y: [0 0 3 ... 0 2 8]\n",
            "Predictions [0 0 3 ... 0 2 8] Y: [0 0 3 ... 0 2 8]\n",
            "Predictions [0 0 3 ... 0 2 8] Y: [0 0 3 ... 0 2 8]\n",
            "Predictions [0 0 3 ... 0 2 8] Y: [0 0 3 ... 0 2 8]\n",
            "Iteration : 260 Accuracy : 0.8218780487804878\n",
            "Predictions [0 0 3 ... 0 2 8] Y: [0 0 3 ... 0 2 8]\n",
            "Predictions [0 0 3 ... 0 2 8] Y: [0 0 3 ... 0 2 8]\n",
            "Predictions [0 0 3 ... 0 2 8] Y: [0 0 3 ... 0 2 8]\n",
            "Predictions [0 0 3 ... 0 2 8] Y: [0 0 3 ... 0 2 8]\n",
            "Predictions [0 0 3 ... 0 2 8] Y: [0 0 3 ... 0 2 8]\n",
            "Predictions [0 0 3 ... 0 2 8] Y: [0 0 3 ... 0 2 8]\n",
            "Predictions [0 0 3 ... 0 2 8] Y: [0 0 3 ... 0 2 8]\n",
            "Predictions [0 0 3 ... 0 2 8] Y: [0 0 3 ... 0 2 8]\n",
            "Predictions [0 0 3 ... 0 2 8] Y: [0 0 3 ... 0 2 8]\n",
            "Predictions [0 0 3 ... 0 2 8] Y: [0 0 3 ... 0 2 8]\n",
            "Iteration : 270 Accuracy : 0.8245853658536585\n",
            "Predictions [0 0 3 ... 0 2 8] Y: [0 0 3 ... 0 2 8]\n",
            "Predictions [0 0 3 ... 0 2 8] Y: [0 0 3 ... 0 2 8]\n",
            "Predictions [0 0 3 ... 0 2 8] Y: [0 0 3 ... 0 2 8]\n",
            "Predictions [0 0 3 ... 0 2 8] Y: [0 0 3 ... 0 2 8]\n",
            "Predictions [0 0 3 ... 0 2 8] Y: [0 0 3 ... 0 2 8]\n",
            "Predictions [0 0 3 ... 0 2 8] Y: [0 0 3 ... 0 2 8]\n",
            "Predictions [0 0 3 ... 0 2 8] Y: [0 0 3 ... 0 2 8]\n",
            "Predictions [0 0 3 ... 0 2 8] Y: [0 0 3 ... 0 2 8]\n",
            "Predictions [0 0 3 ... 0 2 8] Y: [0 0 3 ... 0 2 8]\n",
            "Predictions [0 0 3 ... 0 2 8] Y: [0 0 3 ... 0 2 8]\n",
            "Iteration : 280 Accuracy : 0.8269512195121951\n",
            "Predictions [0 0 3 ... 0 2 8] Y: [0 0 3 ... 0 2 8]\n",
            "Predictions [0 0 3 ... 0 2 8] Y: [0 0 3 ... 0 2 8]\n",
            "Predictions [0 0 3 ... 0 2 8] Y: [0 0 3 ... 0 2 8]\n",
            "Predictions [0 0 3 ... 0 2 8] Y: [0 0 3 ... 0 2 8]\n",
            "Predictions [0 0 3 ... 0 2 8] Y: [0 0 3 ... 0 2 8]\n",
            "Predictions [0 0 3 ... 0 2 8] Y: [0 0 3 ... 0 2 8]\n",
            "Predictions [0 0 3 ... 0 2 8] Y: [0 0 3 ... 0 2 8]\n",
            "Predictions [0 0 3 ... 0 2 8] Y: [0 0 3 ... 0 2 8]\n",
            "Predictions [0 0 3 ... 0 2 8] Y: [0 0 3 ... 0 2 8]\n",
            "Predictions [0 0 3 ... 0 2 8] Y: [0 0 3 ... 0 2 8]\n",
            "Iteration : 290 Accuracy : 0.8294390243902439\n",
            "Predictions [0 0 3 ... 0 2 8] Y: [0 0 3 ... 0 2 8]\n",
            "Predictions [0 0 3 ... 0 2 8] Y: [0 0 3 ... 0 2 8]\n",
            "Predictions [0 0 3 ... 0 2 8] Y: [0 0 3 ... 0 2 8]\n",
            "Predictions [0 0 3 ... 0 2 8] Y: [0 0 3 ... 0 2 8]\n",
            "Predictions [0 0 3 ... 0 2 8] Y: [0 0 3 ... 0 2 8]\n",
            "Predictions [0 0 3 ... 0 2 8] Y: [0 0 3 ... 0 2 8]\n",
            "Predictions [0 0 3 ... 0 2 8] Y: [0 0 3 ... 0 2 8]\n",
            "Predictions [0 0 3 ... 0 2 8] Y: [0 0 3 ... 0 2 8]\n",
            "Predictions [0 0 3 ... 0 2 8] Y: [0 0 3 ... 0 2 8]\n",
            "Predictions [0 0 3 ... 0 2 8] Y: [0 0 3 ... 0 2 8]\n",
            "Iteration : 300 Accuracy : 0.8320487804878048\n",
            "Predictions [0 0 3 ... 0 2 8] Y: [0 0 3 ... 0 2 8]\n",
            "Predictions [0 0 3 ... 0 2 8] Y: [0 0 3 ... 0 2 8]\n",
            "Predictions [0 0 3 ... 0 2 8] Y: [0 0 3 ... 0 2 8]\n",
            "Predictions [0 0 3 ... 0 2 8] Y: [0 0 3 ... 0 2 8]\n",
            "Predictions [0 0 3 ... 0 2 8] Y: [0 0 3 ... 0 2 8]\n",
            "Predictions [0 0 3 ... 0 2 8] Y: [0 0 3 ... 0 2 8]\n",
            "Predictions [0 0 3 ... 0 2 8] Y: [0 0 3 ... 0 2 8]\n",
            "Predictions [0 0 3 ... 0 2 8] Y: [0 0 3 ... 0 2 8]\n",
            "Predictions [0 0 3 ... 0 2 8] Y: [0 0 3 ... 0 2 8]\n",
            "Predictions [0 0 3 ... 0 2 8] Y: [0 0 3 ... 0 2 8]\n",
            "Iteration : 310 Accuracy : 0.8341951219512195\n",
            "Predictions [0 0 3 ... 0 2 8] Y: [0 0 3 ... 0 2 8]\n",
            "Predictions [0 0 3 ... 0 2 8] Y: [0 0 3 ... 0 2 8]\n",
            "Predictions [0 0 3 ... 0 2 8] Y: [0 0 3 ... 0 2 8]\n",
            "Predictions [0 0 3 ... 0 2 8] Y: [0 0 3 ... 0 2 8]\n",
            "Predictions [0 0 3 ... 0 2 8] Y: [0 0 3 ... 0 2 8]\n",
            "Predictions [0 0 3 ... 0 2 8] Y: [0 0 3 ... 0 2 8]\n",
            "Predictions [0 0 3 ... 0 2 8] Y: [0 0 3 ... 0 2 8]\n",
            "Predictions [0 0 3 ... 0 2 8] Y: [0 0 3 ... 0 2 8]\n",
            "Predictions [0 0 3 ... 0 2 8] Y: [0 0 3 ... 0 2 8]\n",
            "Predictions [0 0 3 ... 0 2 8] Y: [0 0 3 ... 0 2 8]\n",
            "Iteration : 320 Accuracy : 0.8364146341463414\n",
            "Predictions [0 0 3 ... 0 2 8] Y: [0 0 3 ... 0 2 8]\n",
            "Predictions [0 0 3 ... 0 2 8] Y: [0 0 3 ... 0 2 8]\n",
            "Predictions [0 0 3 ... 0 2 8] Y: [0 0 3 ... 0 2 8]\n",
            "Predictions [0 0 3 ... 0 2 8] Y: [0 0 3 ... 0 2 8]\n",
            "Predictions [0 0 3 ... 0 2 8] Y: [0 0 3 ... 0 2 8]\n",
            "Predictions [0 0 3 ... 0 2 8] Y: [0 0 3 ... 0 2 8]\n",
            "Predictions [0 0 3 ... 0 2 8] Y: [0 0 3 ... 0 2 8]\n",
            "Predictions [0 0 3 ... 0 2 8] Y: [0 0 3 ... 0 2 8]\n",
            "Predictions [0 0 3 ... 0 2 8] Y: [0 0 3 ... 0 2 8]\n",
            "Predictions [0 0 3 ... 0 2 8] Y: [0 0 3 ... 0 2 8]\n",
            "Iteration : 330 Accuracy : 0.8383658536585366\n",
            "Predictions [0 0 3 ... 0 2 8] Y: [0 0 3 ... 0 2 8]\n",
            "Predictions [0 0 3 ... 0 2 8] Y: [0 0 3 ... 0 2 8]\n",
            "Predictions [0 0 3 ... 0 2 8] Y: [0 0 3 ... 0 2 8]\n",
            "Predictions [0 0 3 ... 0 2 8] Y: [0 0 3 ... 0 2 8]\n",
            "Predictions [0 0 3 ... 0 2 8] Y: [0 0 3 ... 0 2 8]\n",
            "Predictions [0 0 3 ... 0 2 8] Y: [0 0 3 ... 0 2 8]\n",
            "Predictions [0 0 3 ... 0 2 8] Y: [0 0 3 ... 0 2 8]\n",
            "Predictions [0 0 3 ... 0 2 8] Y: [0 0 3 ... 0 2 8]\n",
            "Predictions [0 0 3 ... 0 2 8] Y: [0 0 3 ... 0 2 8]\n",
            "Predictions [0 0 3 ... 0 2 8] Y: [0 0 3 ... 0 2 8]\n",
            "Iteration : 340 Accuracy : 0.8399268292682927\n",
            "Predictions [0 0 3 ... 0 2 8] Y: [0 0 3 ... 0 2 8]\n",
            "Predictions [0 0 3 ... 0 2 8] Y: [0 0 3 ... 0 2 8]\n",
            "Predictions [0 0 3 ... 0 2 8] Y: [0 0 3 ... 0 2 8]\n",
            "Predictions [0 0 3 ... 0 2 8] Y: [0 0 3 ... 0 2 8]\n",
            "Predictions [0 0 3 ... 0 2 8] Y: [0 0 3 ... 0 2 8]\n",
            "Predictions [0 0 3 ... 0 2 8] Y: [0 0 3 ... 0 2 8]\n",
            "Predictions [0 0 3 ... 0 2 8] Y: [0 0 3 ... 0 2 8]\n",
            "Predictions [0 0 3 ... 0 2 8] Y: [0 0 3 ... 0 2 8]\n",
            "Predictions [0 0 3 ... 0 2 8] Y: [0 0 3 ... 0 2 8]\n",
            "Predictions [0 0 3 ... 0 2 8] Y: [0 0 3 ... 0 2 8]\n",
            "Iteration : 350 Accuracy : 0.8418780487804878\n",
            "Predictions [0 0 3 ... 0 2 8] Y: [0 0 3 ... 0 2 8]\n",
            "Predictions [0 0 3 ... 0 2 8] Y: [0 0 3 ... 0 2 8]\n",
            "Predictions [0 0 3 ... 0 2 8] Y: [0 0 3 ... 0 2 8]\n",
            "Predictions [0 0 3 ... 0 2 8] Y: [0 0 3 ... 0 2 8]\n",
            "Predictions [0 0 3 ... 0 2 8] Y: [0 0 3 ... 0 2 8]\n",
            "Predictions [0 0 3 ... 0 2 8] Y: [0 0 3 ... 0 2 8]\n",
            "Predictions [0 0 3 ... 0 2 8] Y: [0 0 3 ... 0 2 8]\n",
            "Predictions [0 0 3 ... 0 2 8] Y: [0 0 3 ... 0 2 8]\n",
            "Predictions [0 0 3 ... 0 2 8] Y: [0 0 3 ... 0 2 8]\n",
            "Predictions [0 0 3 ... 0 2 8] Y: [0 0 3 ... 0 2 8]\n",
            "Iteration : 360 Accuracy : 0.843780487804878\n",
            "Predictions [0 0 3 ... 0 2 8] Y: [0 0 3 ... 0 2 8]\n",
            "Predictions [0 0 3 ... 0 2 8] Y: [0 0 3 ... 0 2 8]\n",
            "Predictions [0 0 3 ... 0 2 8] Y: [0 0 3 ... 0 2 8]\n",
            "Predictions [0 0 3 ... 0 2 8] Y: [0 0 3 ... 0 2 8]\n",
            "Predictions [0 0 3 ... 0 2 8] Y: [0 0 3 ... 0 2 8]\n",
            "Predictions [0 0 3 ... 0 2 8] Y: [0 0 3 ... 0 2 8]\n",
            "Predictions [0 0 3 ... 0 2 8] Y: [0 0 3 ... 0 2 8]\n",
            "Predictions [0 0 3 ... 0 2 8] Y: [0 0 3 ... 0 2 8]\n",
            "Predictions [0 0 3 ... 0 2 8] Y: [0 0 3 ... 0 2 8]\n",
            "Predictions [0 0 3 ... 0 2 8] Y: [0 0 3 ... 0 2 8]\n",
            "Iteration : 370 Accuracy : 0.8453658536585366\n",
            "Predictions [0 0 3 ... 0 2 8] Y: [0 0 3 ... 0 2 8]\n",
            "Predictions [0 0 3 ... 0 2 8] Y: [0 0 3 ... 0 2 8]\n",
            "Predictions [0 0 3 ... 0 2 8] Y: [0 0 3 ... 0 2 8]\n",
            "Predictions [0 0 3 ... 0 2 8] Y: [0 0 3 ... 0 2 8]\n",
            "Predictions [0 0 3 ... 0 2 8] Y: [0 0 3 ... 0 2 8]\n",
            "Predictions [0 0 3 ... 0 2 8] Y: [0 0 3 ... 0 2 8]\n",
            "Predictions [0 0 3 ... 0 2 8] Y: [0 0 3 ... 0 2 8]\n",
            "Predictions [0 0 3 ... 0 2 8] Y: [0 0 3 ... 0 2 8]\n",
            "Predictions [0 0 3 ... 0 2 8] Y: [0 0 3 ... 0 2 8]\n",
            "Predictions [0 0 3 ... 0 2 8] Y: [0 0 3 ... 0 2 8]\n",
            "Iteration : 380 Accuracy : 0.8469024390243902\n",
            "Predictions [0 0 3 ... 0 2 8] Y: [0 0 3 ... 0 2 8]\n",
            "Predictions [0 0 3 ... 0 2 8] Y: [0 0 3 ... 0 2 8]\n",
            "Predictions [0 0 3 ... 0 2 8] Y: [0 0 3 ... 0 2 8]\n",
            "Predictions [0 0 3 ... 0 2 8] Y: [0 0 3 ... 0 2 8]\n",
            "Predictions [0 0 3 ... 0 2 8] Y: [0 0 3 ... 0 2 8]\n",
            "Predictions [0 0 3 ... 0 2 8] Y: [0 0 3 ... 0 2 8]\n",
            "Predictions [0 0 3 ... 0 2 8] Y: [0 0 3 ... 0 2 8]\n",
            "Predictions [0 0 3 ... 0 2 8] Y: [0 0 3 ... 0 2 8]\n",
            "Predictions [0 0 3 ... 0 2 8] Y: [0 0 3 ... 0 2 8]\n",
            "Predictions [0 0 3 ... 0 2 8] Y: [0 0 3 ... 0 2 8]\n",
            "Iteration : 390 Accuracy : 0.8480975609756097\n",
            "Predictions [0 0 3 ... 0 2 8] Y: [0 0 3 ... 0 2 8]\n",
            "Predictions [0 0 3 ... 0 2 8] Y: [0 0 3 ... 0 2 8]\n",
            "Predictions [0 0 3 ... 0 2 8] Y: [0 0 3 ... 0 2 8]\n",
            "Predictions [0 0 3 ... 0 2 8] Y: [0 0 3 ... 0 2 8]\n",
            "Predictions [0 0 3 ... 0 2 8] Y: [0 0 3 ... 0 2 8]\n",
            "Predictions [0 0 3 ... 0 2 8] Y: [0 0 3 ... 0 2 8]\n",
            "Predictions [0 0 3 ... 0 2 8] Y: [0 0 3 ... 0 2 8]\n",
            "Predictions [0 0 3 ... 0 2 8] Y: [0 0 3 ... 0 2 8]\n",
            "Predictions [0 0 3 ... 0 2 8] Y: [0 0 3 ... 0 2 8]\n",
            "Predictions [0 0 3 ... 0 2 8] Y: [0 0 3 ... 0 2 8]\n",
            "Iteration : 400 Accuracy : 0.8495121951219512\n",
            "Predictions [0 0 3 ... 0 2 8] Y: [0 0 3 ... 0 2 8]\n",
            "Predictions [0 0 3 ... 0 2 8] Y: [0 0 3 ... 0 2 8]\n",
            "Predictions [0 0 3 ... 0 2 8] Y: [0 0 3 ... 0 2 8]\n",
            "Predictions [0 0 3 ... 0 2 8] Y: [0 0 3 ... 0 2 8]\n",
            "Predictions [0 0 3 ... 0 2 8] Y: [0 0 3 ... 0 2 8]\n",
            "Predictions [0 0 3 ... 0 2 8] Y: [0 0 3 ... 0 2 8]\n",
            "Predictions [0 0 3 ... 0 2 8] Y: [0 0 3 ... 0 2 8]\n",
            "Predictions [0 0 3 ... 0 2 8] Y: [0 0 3 ... 0 2 8]\n",
            "Predictions [0 0 3 ... 0 2 8] Y: [0 0 3 ... 0 2 8]\n",
            "Predictions [0 0 3 ... 0 2 8] Y: [0 0 3 ... 0 2 8]\n",
            "Iteration : 410 Accuracy : 0.8507317073170731\n",
            "Predictions [0 0 3 ... 0 2 8] Y: [0 0 3 ... 0 2 8]\n",
            "Predictions [0 0 3 ... 0 2 8] Y: [0 0 3 ... 0 2 8]\n",
            "Predictions [0 0 3 ... 0 2 8] Y: [0 0 3 ... 0 2 8]\n",
            "Predictions [0 0 3 ... 0 2 8] Y: [0 0 3 ... 0 2 8]\n",
            "Predictions [0 0 3 ... 0 2 8] Y: [0 0 3 ... 0 2 8]\n",
            "Predictions [0 0 3 ... 0 2 8] Y: [0 0 3 ... 0 2 8]\n",
            "Predictions [0 0 3 ... 0 2 8] Y: [0 0 3 ... 0 2 8]\n",
            "Predictions [0 0 3 ... 0 2 8] Y: [0 0 3 ... 0 2 8]\n",
            "Predictions [0 0 3 ... 0 2 8] Y: [0 0 3 ... 0 2 8]\n",
            "Predictions [0 0 3 ... 0 2 8] Y: [0 0 3 ... 0 2 8]\n",
            "Iteration : 420 Accuracy : 0.8517317073170732\n",
            "Predictions [0 0 3 ... 0 2 8] Y: [0 0 3 ... 0 2 8]\n",
            "Predictions [0 0 3 ... 0 2 8] Y: [0 0 3 ... 0 2 8]\n",
            "Predictions [0 0 3 ... 0 2 8] Y: [0 0 3 ... 0 2 8]\n",
            "Predictions [0 0 3 ... 0 2 8] Y: [0 0 3 ... 0 2 8]\n",
            "Predictions [0 0 3 ... 0 2 8] Y: [0 0 3 ... 0 2 8]\n",
            "Predictions [0 0 3 ... 0 2 8] Y: [0 0 3 ... 0 2 8]\n",
            "Predictions [0 0 3 ... 0 2 8] Y: [0 0 3 ... 0 2 8]\n",
            "Predictions [0 0 3 ... 0 2 8] Y: [0 0 3 ... 0 2 8]\n",
            "Predictions [0 0 3 ... 0 2 8] Y: [0 0 3 ... 0 2 8]\n",
            "Predictions [0 0 3 ... 0 2 8] Y: [0 0 3 ... 0 2 8]\n",
            "Iteration : 430 Accuracy : 0.8528536585365853\n",
            "Predictions [0 0 3 ... 0 2 8] Y: [0 0 3 ... 0 2 8]\n",
            "Predictions [0 0 3 ... 0 2 8] Y: [0 0 3 ... 0 2 8]\n",
            "Predictions [0 0 3 ... 0 2 8] Y: [0 0 3 ... 0 2 8]\n",
            "Predictions [0 0 3 ... 0 2 8] Y: [0 0 3 ... 0 2 8]\n",
            "Predictions [0 0 3 ... 0 2 8] Y: [0 0 3 ... 0 2 8]\n",
            "Predictions [0 0 3 ... 0 2 8] Y: [0 0 3 ... 0 2 8]\n",
            "Predictions [0 0 3 ... 0 2 8] Y: [0 0 3 ... 0 2 8]\n",
            "Predictions [0 0 3 ... 0 2 8] Y: [0 0 3 ... 0 2 8]\n",
            "Predictions [0 0 3 ... 0 2 8] Y: [0 0 3 ... 0 2 8]\n",
            "Predictions [0 0 3 ... 0 2 8] Y: [0 0 3 ... 0 2 8]\n",
            "Iteration : 440 Accuracy : 0.854\n",
            "Predictions [0 0 3 ... 0 2 8] Y: [0 0 3 ... 0 2 8]\n",
            "Predictions [0 0 3 ... 0 2 8] Y: [0 0 3 ... 0 2 8]\n",
            "Predictions [0 0 3 ... 0 2 8] Y: [0 0 3 ... 0 2 8]\n",
            "Predictions [0 0 3 ... 0 2 8] Y: [0 0 3 ... 0 2 8]\n",
            "Predictions [0 0 3 ... 0 2 8] Y: [0 0 3 ... 0 2 8]\n",
            "Predictions [0 0 3 ... 0 2 8] Y: [0 0 3 ... 0 2 8]\n",
            "Predictions [0 0 3 ... 0 2 8] Y: [0 0 3 ... 0 2 8]\n",
            "Predictions [0 0 3 ... 0 2 8] Y: [0 0 3 ... 0 2 8]\n",
            "Predictions [0 0 3 ... 0 2 8] Y: [0 0 3 ... 0 2 8]\n",
            "Predictions [0 0 3 ... 0 2 8] Y: [0 0 3 ... 0 2 8]\n",
            "Iteration : 450 Accuracy : 0.854780487804878\n",
            "Predictions [0 0 3 ... 0 2 8] Y: [0 0 3 ... 0 2 8]\n",
            "Predictions [0 0 3 ... 0 2 8] Y: [0 0 3 ... 0 2 8]\n",
            "Predictions [0 0 3 ... 0 2 8] Y: [0 0 3 ... 0 2 8]\n",
            "Predictions [0 0 3 ... 0 2 8] Y: [0 0 3 ... 0 2 8]\n",
            "Predictions [0 0 3 ... 0 2 8] Y: [0 0 3 ... 0 2 8]\n",
            "Predictions [0 0 3 ... 0 2 8] Y: [0 0 3 ... 0 2 8]\n",
            "Predictions [0 0 3 ... 0 2 8] Y: [0 0 3 ... 0 2 8]\n",
            "Predictions [0 0 3 ... 0 2 8] Y: [0 0 3 ... 0 2 8]\n",
            "Predictions [0 0 3 ... 0 2 8] Y: [0 0 3 ... 0 2 8]\n",
            "Predictions [0 0 3 ... 0 2 8] Y: [0 0 3 ... 0 2 8]\n",
            "Iteration : 460 Accuracy : 0.8557317073170732\n",
            "Predictions [0 0 3 ... 0 2 8] Y: [0 0 3 ... 0 2 8]\n",
            "Predictions [0 0 3 ... 0 2 8] Y: [0 0 3 ... 0 2 8]\n",
            "Predictions [0 0 3 ... 0 2 8] Y: [0 0 3 ... 0 2 8]\n",
            "Predictions [0 0 3 ... 0 2 8] Y: [0 0 3 ... 0 2 8]\n",
            "Predictions [0 0 3 ... 0 2 8] Y: [0 0 3 ... 0 2 8]\n",
            "Predictions [0 0 3 ... 0 2 8] Y: [0 0 3 ... 0 2 8]\n",
            "Predictions [0 0 3 ... 0 2 8] Y: [0 0 3 ... 0 2 8]\n",
            "Predictions [0 0 3 ... 0 2 8] Y: [0 0 3 ... 0 2 8]\n",
            "Predictions [0 0 3 ... 0 2 8] Y: [0 0 3 ... 0 2 8]\n",
            "Predictions [0 0 3 ... 0 2 8] Y: [0 0 3 ... 0 2 8]\n",
            "Iteration : 470 Accuracy : 0.8568780487804878\n",
            "Predictions [0 0 3 ... 0 2 8] Y: [0 0 3 ... 0 2 8]\n",
            "Predictions [0 0 3 ... 0 2 8] Y: [0 0 3 ... 0 2 8]\n",
            "Predictions [0 0 3 ... 0 2 8] Y: [0 0 3 ... 0 2 8]\n",
            "Predictions [0 0 3 ... 0 2 8] Y: [0 0 3 ... 0 2 8]\n",
            "Predictions [0 0 3 ... 0 2 8] Y: [0 0 3 ... 0 2 8]\n",
            "Predictions [0 0 3 ... 0 2 8] Y: [0 0 3 ... 0 2 8]\n",
            "Predictions [0 0 3 ... 0 2 8] Y: [0 0 3 ... 0 2 8]\n",
            "Predictions [0 0 3 ... 0 2 8] Y: [0 0 3 ... 0 2 8]\n",
            "Predictions [0 0 3 ... 0 2 8] Y: [0 0 3 ... 0 2 8]\n",
            "Predictions [0 0 3 ... 0 2 8] Y: [0 0 3 ... 0 2 8]\n",
            "Iteration : 480 Accuracy : 0.8577560975609756\n",
            "Predictions [0 0 3 ... 0 2 8] Y: [0 0 3 ... 0 2 8]\n",
            "Predictions [0 0 3 ... 0 2 8] Y: [0 0 3 ... 0 2 8]\n",
            "Predictions [0 0 3 ... 0 2 8] Y: [0 0 3 ... 0 2 8]\n",
            "Predictions [0 0 3 ... 0 2 8] Y: [0 0 3 ... 0 2 8]\n",
            "Predictions [0 0 3 ... 0 2 8] Y: [0 0 3 ... 0 2 8]\n",
            "Predictions [0 0 3 ... 0 2 8] Y: [0 0 3 ... 0 2 8]\n",
            "Predictions [0 0 3 ... 0 2 8] Y: [0 0 3 ... 0 2 8]\n",
            "Predictions [0 0 3 ... 0 2 8] Y: [0 0 3 ... 0 2 8]\n",
            "Predictions [0 0 3 ... 0 2 8] Y: [0 0 3 ... 0 2 8]\n",
            "Predictions [0 0 3 ... 0 2 8] Y: [0 0 3 ... 0 2 8]\n",
            "Iteration : 490 Accuracy : 0.8585365853658536\n",
            "Predictions [0 0 3 ... 0 2 8] Y: [0 0 3 ... 0 2 8]\n",
            "Predictions [0 0 3 ... 0 2 8] Y: [0 0 3 ... 0 2 8]\n",
            "Predictions [0 0 3 ... 0 2 8] Y: [0 0 3 ... 0 2 8]\n",
            "Predictions [0 0 3 ... 0 2 8] Y: [0 0 3 ... 0 2 8]\n",
            "Predictions [0 0 3 ... 0 2 8] Y: [0 0 3 ... 0 2 8]\n",
            "Predictions [0 0 3 ... 0 2 8] Y: [0 0 3 ... 0 2 8]\n",
            "Predictions [0 0 3 ... 0 2 8] Y: [0 0 3 ... 0 2 8]\n",
            "Predictions [0 0 3 ... 0 2 8] Y: [0 0 3 ... 0 2 8]\n",
            "Predictions [0 0 3 ... 0 2 8] Y: [0 0 3 ... 0 2 8]\n",
            "Predictions [0 0 3 ... 0 2 8] Y: [0 0 3 ... 0 2 8]\n",
            "Iteration : 500 Accuracy : 0.8592439024390244\n",
            "Predictions [0 0 3 ... 0 2 8] Y: [0 0 3 ... 0 2 8]\n",
            "Predictions [0 0 3 ... 0 2 8] Y: [0 0 3 ... 0 2 8]\n",
            "Predictions [0 0 3 ... 0 2 8] Y: [0 0 3 ... 0 2 8]\n",
            "Predictions [0 0 3 ... 0 2 8] Y: [0 0 3 ... 0 2 8]\n",
            "Predictions [0 0 3 ... 0 2 8] Y: [0 0 3 ... 0 2 8]\n",
            "Predictions [0 0 3 ... 0 2 8] Y: [0 0 3 ... 0 2 8]\n",
            "Predictions [0 0 3 ... 0 2 8] Y: [0 0 3 ... 0 2 8]\n",
            "Predictions [0 0 3 ... 0 2 8] Y: [0 0 3 ... 0 2 8]\n",
            "Predictions [0 0 3 ... 0 2 8] Y: [0 0 3 ... 0 2 8]\n",
            "Predictions [0 0 3 ... 0 2 8] Y: [0 0 3 ... 0 2 8]\n",
            "Iteration : 510 Accuracy : 0.8598536585365854\n",
            "Predictions [0 0 3 ... 0 2 8] Y: [0 0 3 ... 0 2 8]\n",
            "Predictions [0 0 3 ... 0 2 8] Y: [0 0 3 ... 0 2 8]\n",
            "Predictions [0 0 3 ... 0 2 8] Y: [0 0 3 ... 0 2 8]\n",
            "Predictions [0 0 3 ... 0 2 8] Y: [0 0 3 ... 0 2 8]\n",
            "Predictions [0 0 3 ... 0 2 8] Y: [0 0 3 ... 0 2 8]\n",
            "Predictions [0 0 3 ... 0 2 8] Y: [0 0 3 ... 0 2 8]\n",
            "Predictions [0 0 3 ... 0 2 8] Y: [0 0 3 ... 0 2 8]\n",
            "Predictions [0 0 3 ... 0 2 8] Y: [0 0 3 ... 0 2 8]\n",
            "Predictions [0 0 3 ... 0 2 8] Y: [0 0 3 ... 0 2 8]\n",
            "Predictions [0 0 3 ... 0 2 8] Y: [0 0 3 ... 0 2 8]\n",
            "Iteration : 520 Accuracy : 0.8606829268292683\n",
            "Predictions [0 0 3 ... 0 2 8] Y: [0 0 3 ... 0 2 8]\n",
            "Predictions [0 0 3 ... 0 2 8] Y: [0 0 3 ... 0 2 8]\n",
            "Predictions [0 0 3 ... 0 2 8] Y: [0 0 3 ... 0 2 8]\n",
            "Predictions [0 0 3 ... 0 2 8] Y: [0 0 3 ... 0 2 8]\n",
            "Predictions [0 0 3 ... 0 2 8] Y: [0 0 3 ... 0 2 8]\n",
            "Predictions [0 0 3 ... 0 2 8] Y: [0 0 3 ... 0 2 8]\n",
            "Predictions [0 0 3 ... 0 2 8] Y: [0 0 3 ... 0 2 8]\n",
            "Predictions [0 0 3 ... 0 2 8] Y: [0 0 3 ... 0 2 8]\n",
            "Predictions [0 0 3 ... 0 2 8] Y: [0 0 3 ... 0 2 8]\n",
            "Predictions [0 0 3 ... 0 2 8] Y: [0 0 3 ... 0 2 8]\n",
            "Iteration : 530 Accuracy : 0.8613170731707317\n",
            "Predictions [0 0 3 ... 0 2 8] Y: [0 0 3 ... 0 2 8]\n",
            "Predictions [0 0 3 ... 0 2 8] Y: [0 0 3 ... 0 2 8]\n",
            "Predictions [0 0 3 ... 0 2 8] Y: [0 0 3 ... 0 2 8]\n",
            "Predictions [0 0 3 ... 0 2 8] Y: [0 0 3 ... 0 2 8]\n",
            "Predictions [0 0 3 ... 0 2 8] Y: [0 0 3 ... 0 2 8]\n",
            "Predictions [0 0 3 ... 0 2 8] Y: [0 0 3 ... 0 2 8]\n",
            "Predictions [0 0 3 ... 0 2 8] Y: [0 0 3 ... 0 2 8]\n",
            "Predictions [0 0 3 ... 0 2 8] Y: [0 0 3 ... 0 2 8]\n",
            "Predictions [0 0 3 ... 0 2 8] Y: [0 0 3 ... 0 2 8]\n",
            "Predictions [0 0 3 ... 0 2 8] Y: [0 0 3 ... 0 2 8]\n",
            "Iteration : 540 Accuracy : 0.8619756097560975\n",
            "Predictions [0 0 3 ... 0 2 8] Y: [0 0 3 ... 0 2 8]\n",
            "Predictions [0 0 3 ... 0 2 8] Y: [0 0 3 ... 0 2 8]\n",
            "Predictions [0 0 3 ... 0 2 8] Y: [0 0 3 ... 0 2 8]\n",
            "Predictions [0 0 3 ... 0 2 8] Y: [0 0 3 ... 0 2 8]\n",
            "Predictions [0 0 3 ... 0 2 8] Y: [0 0 3 ... 0 2 8]\n",
            "Predictions [0 0 3 ... 0 2 8] Y: [0 0 3 ... 0 2 8]\n",
            "Predictions [0 0 3 ... 0 2 8] Y: [0 0 3 ... 0 2 8]\n",
            "Predictions [0 0 3 ... 0 2 8] Y: [0 0 3 ... 0 2 8]\n",
            "Predictions [0 0 3 ... 0 2 8] Y: [0 0 3 ... 0 2 8]\n",
            "Predictions [0 0 3 ... 0 2 8] Y: [0 0 3 ... 0 2 8]\n",
            "Iteration : 550 Accuracy : 0.8628048780487805\n",
            "Predictions [0 0 3 ... 0 2 8] Y: [0 0 3 ... 0 2 8]\n",
            "Predictions [0 0 3 ... 0 2 8] Y: [0 0 3 ... 0 2 8]\n",
            "Predictions [0 0 3 ... 0 2 8] Y: [0 0 3 ... 0 2 8]\n",
            "Predictions [0 0 3 ... 0 2 8] Y: [0 0 3 ... 0 2 8]\n",
            "Predictions [0 0 3 ... 0 2 8] Y: [0 0 3 ... 0 2 8]\n",
            "Predictions [0 0 3 ... 0 2 8] Y: [0 0 3 ... 0 2 8]\n",
            "Predictions [0 0 3 ... 0 2 8] Y: [0 0 3 ... 0 2 8]\n",
            "Predictions [0 0 3 ... 0 2 8] Y: [0 0 3 ... 0 2 8]\n",
            "Predictions [0 0 3 ... 0 2 8] Y: [0 0 3 ... 0 2 8]\n",
            "Predictions [0 0 3 ... 0 2 8] Y: [0 0 3 ... 0 2 8]\n",
            "Iteration : 560 Accuracy : 0.8634146341463415\n",
            "Predictions [0 0 3 ... 0 2 8] Y: [0 0 3 ... 0 2 8]\n",
            "Predictions [0 0 3 ... 0 2 8] Y: [0 0 3 ... 0 2 8]\n",
            "Predictions [0 0 3 ... 0 2 8] Y: [0 0 3 ... 0 2 8]\n",
            "Predictions [0 0 3 ... 0 2 8] Y: [0 0 3 ... 0 2 8]\n",
            "Predictions [0 0 3 ... 0 2 8] Y: [0 0 3 ... 0 2 8]\n",
            "Predictions [0 0 3 ... 0 2 8] Y: [0 0 3 ... 0 2 8]\n",
            "Predictions [0 0 3 ... 0 2 8] Y: [0 0 3 ... 0 2 8]\n",
            "Predictions [0 0 3 ... 0 2 8] Y: [0 0 3 ... 0 2 8]\n",
            "Predictions [0 0 3 ... 0 2 8] Y: [0 0 3 ... 0 2 8]\n",
            "Predictions [0 0 3 ... 0 2 8] Y: [0 0 3 ... 0 2 8]\n",
            "Iteration : 570 Accuracy : 0.8639756097560976\n",
            "Predictions [0 0 3 ... 0 2 8] Y: [0 0 3 ... 0 2 8]\n",
            "Predictions [0 0 3 ... 0 2 8] Y: [0 0 3 ... 0 2 8]\n",
            "Predictions [0 0 3 ... 0 2 8] Y: [0 0 3 ... 0 2 8]\n",
            "Predictions [0 0 3 ... 0 2 8] Y: [0 0 3 ... 0 2 8]\n",
            "Predictions [0 0 3 ... 0 2 8] Y: [0 0 3 ... 0 2 8]\n",
            "Predictions [0 0 3 ... 0 2 8] Y: [0 0 3 ... 0 2 8]\n",
            "Predictions [0 0 3 ... 0 2 8] Y: [0 0 3 ... 0 2 8]\n",
            "Predictions [0 0 3 ... 0 2 8] Y: [0 0 3 ... 0 2 8]\n",
            "Predictions [0 0 3 ... 0 2 8] Y: [0 0 3 ... 0 2 8]\n",
            "Predictions [0 0 3 ... 0 2 8] Y: [0 0 3 ... 0 2 8]\n",
            "Iteration : 580 Accuracy : 0.8647073170731707\n",
            "Predictions [0 0 3 ... 0 2 8] Y: [0 0 3 ... 0 2 8]\n",
            "Predictions [0 0 3 ... 0 2 8] Y: [0 0 3 ... 0 2 8]\n",
            "Predictions [0 0 3 ... 0 2 8] Y: [0 0 3 ... 0 2 8]\n",
            "Predictions [0 0 3 ... 0 2 8] Y: [0 0 3 ... 0 2 8]\n",
            "Predictions [0 0 3 ... 0 2 8] Y: [0 0 3 ... 0 2 8]\n",
            "Predictions [0 0 3 ... 0 2 8] Y: [0 0 3 ... 0 2 8]\n",
            "Predictions [0 0 3 ... 0 2 8] Y: [0 0 3 ... 0 2 8]\n",
            "Predictions [0 0 3 ... 0 2 8] Y: [0 0 3 ... 0 2 8]\n",
            "Predictions [0 0 3 ... 0 2 8] Y: [0 0 3 ... 0 2 8]\n",
            "Predictions [0 0 3 ... 0 2 8] Y: [0 0 3 ... 0 2 8]\n",
            "Iteration : 590 Accuracy : 0.865390243902439\n",
            "Predictions [0 0 3 ... 0 2 8] Y: [0 0 3 ... 0 2 8]\n",
            "Predictions [0 0 3 ... 0 2 8] Y: [0 0 3 ... 0 2 8]\n",
            "Predictions [0 0 3 ... 0 2 8] Y: [0 0 3 ... 0 2 8]\n",
            "Predictions [0 0 3 ... 0 2 8] Y: [0 0 3 ... 0 2 8]\n",
            "Predictions [0 0 3 ... 0 2 8] Y: [0 0 3 ... 0 2 8]\n",
            "Predictions [0 0 3 ... 0 2 8] Y: [0 0 3 ... 0 2 8]\n",
            "Predictions [0 0 3 ... 0 2 8] Y: [0 0 3 ... 0 2 8]\n",
            "Predictions [0 0 3 ... 0 2 8] Y: [0 0 3 ... 0 2 8]\n",
            "Predictions [0 0 3 ... 0 2 8] Y: [0 0 3 ... 0 2 8]\n",
            "Predictions [0 0 3 ... 0 2 8] Y: [0 0 3 ... 0 2 8]\n",
            "Iteration : 600 Accuracy : 0.8660731707317073\n",
            "Predictions [0 0 3 ... 0 2 8] Y: [0 0 3 ... 0 2 8]\n",
            "Predictions [0 0 3 ... 0 2 8] Y: [0 0 3 ... 0 2 8]\n",
            "Predictions [0 0 3 ... 0 2 8] Y: [0 0 3 ... 0 2 8]\n",
            "Predictions [0 0 3 ... 0 2 8] Y: [0 0 3 ... 0 2 8]\n",
            "Predictions [0 0 3 ... 0 2 8] Y: [0 0 3 ... 0 2 8]\n",
            "Predictions [0 0 3 ... 0 2 8] Y: [0 0 3 ... 0 2 8]\n",
            "Predictions [0 0 3 ... 0 2 8] Y: [0 0 3 ... 0 2 8]\n",
            "Predictions [0 0 3 ... 0 2 8] Y: [0 0 3 ... 0 2 8]\n",
            "Predictions [0 0 3 ... 0 2 8] Y: [0 0 3 ... 0 2 8]\n",
            "Predictions [0 0 3 ... 0 2 8] Y: [0 0 3 ... 0 2 8]\n",
            "Iteration : 610 Accuracy : 0.8666341463414634\n",
            "Predictions [0 0 3 ... 0 2 8] Y: [0 0 3 ... 0 2 8]\n",
            "Predictions [0 0 3 ... 0 2 8] Y: [0 0 3 ... 0 2 8]\n",
            "Predictions [0 0 3 ... 0 2 8] Y: [0 0 3 ... 0 2 8]\n",
            "Predictions [0 0 3 ... 0 2 8] Y: [0 0 3 ... 0 2 8]\n",
            "Predictions [0 0 3 ... 0 2 8] Y: [0 0 3 ... 0 2 8]\n",
            "Predictions [0 0 3 ... 0 2 8] Y: [0 0 3 ... 0 2 8]\n",
            "Predictions [0 0 3 ... 0 2 8] Y: [0 0 3 ... 0 2 8]\n",
            "Predictions [0 0 3 ... 0 2 8] Y: [0 0 3 ... 0 2 8]\n",
            "Predictions [0 0 3 ... 0 2 8] Y: [0 0 3 ... 0 2 8]\n",
            "Predictions [0 0 3 ... 0 2 8] Y: [0 0 3 ... 0 2 8]\n",
            "Iteration : 620 Accuracy : 0.8673414634146341\n",
            "Predictions [0 0 3 ... 0 2 8] Y: [0 0 3 ... 0 2 8]\n",
            "Predictions [0 0 3 ... 0 2 8] Y: [0 0 3 ... 0 2 8]\n",
            "Predictions [0 0 3 ... 0 2 8] Y: [0 0 3 ... 0 2 8]\n",
            "Predictions [0 0 3 ... 0 2 8] Y: [0 0 3 ... 0 2 8]\n",
            "Predictions [0 0 3 ... 0 2 8] Y: [0 0 3 ... 0 2 8]\n",
            "Predictions [0 0 3 ... 0 2 8] Y: [0 0 3 ... 0 2 8]\n",
            "Predictions [0 0 3 ... 0 2 8] Y: [0 0 3 ... 0 2 8]\n",
            "Predictions [0 0 3 ... 0 2 8] Y: [0 0 3 ... 0 2 8]\n",
            "Predictions [0 0 3 ... 0 2 8] Y: [0 0 3 ... 0 2 8]\n",
            "Predictions [0 0 3 ... 0 2 8] Y: [0 0 3 ... 0 2 8]\n",
            "Iteration : 630 Accuracy : 0.8677317073170732\n",
            "Predictions [0 0 3 ... 0 2 8] Y: [0 0 3 ... 0 2 8]\n",
            "Predictions [0 0 3 ... 0 2 8] Y: [0 0 3 ... 0 2 8]\n",
            "Predictions [0 0 3 ... 0 2 8] Y: [0 0 3 ... 0 2 8]\n",
            "Predictions [0 0 3 ... 0 2 8] Y: [0 0 3 ... 0 2 8]\n",
            "Predictions [0 0 3 ... 0 2 8] Y: [0 0 3 ... 0 2 8]\n",
            "Predictions [0 0 3 ... 0 2 8] Y: [0 0 3 ... 0 2 8]\n",
            "Predictions [0 0 3 ... 0 2 8] Y: [0 0 3 ... 0 2 8]\n",
            "Predictions [0 0 3 ... 0 2 8] Y: [0 0 3 ... 0 2 8]\n",
            "Predictions [0 0 3 ... 0 2 8] Y: [0 0 3 ... 0 2 8]\n",
            "Predictions [0 0 3 ... 0 2 8] Y: [0 0 3 ... 0 2 8]\n",
            "Iteration : 640 Accuracy : 0.868390243902439\n",
            "Predictions [0 0 3 ... 0 2 8] Y: [0 0 3 ... 0 2 8]\n",
            "Predictions [0 0 3 ... 0 2 8] Y: [0 0 3 ... 0 2 8]\n",
            "Predictions [0 0 3 ... 0 2 8] Y: [0 0 3 ... 0 2 8]\n",
            "Predictions [0 0 3 ... 0 2 8] Y: [0 0 3 ... 0 2 8]\n",
            "Predictions [0 0 3 ... 0 2 8] Y: [0 0 3 ... 0 2 8]\n",
            "Predictions [0 0 3 ... 0 2 8] Y: [0 0 3 ... 0 2 8]\n",
            "Predictions [0 0 3 ... 0 2 8] Y: [0 0 3 ... 0 2 8]\n",
            "Predictions [0 0 3 ... 0 2 8] Y: [0 0 3 ... 0 2 8]\n",
            "Predictions [0 0 3 ... 0 2 8] Y: [0 0 3 ... 0 2 8]\n",
            "Predictions [0 0 3 ... 0 2 8] Y: [0 0 3 ... 0 2 8]\n",
            "Iteration : 650 Accuracy : 0.869\n",
            "Predictions [0 0 3 ... 0 2 8] Y: [0 0 3 ... 0 2 8]\n",
            "Predictions [0 0 3 ... 0 2 8] Y: [0 0 3 ... 0 2 8]\n",
            "Predictions [0 0 3 ... 0 2 8] Y: [0 0 3 ... 0 2 8]\n",
            "Predictions [0 0 3 ... 0 2 8] Y: [0 0 3 ... 0 2 8]\n",
            "Predictions [0 0 3 ... 0 2 8] Y: [0 0 3 ... 0 2 8]\n",
            "Predictions [0 0 3 ... 0 2 8] Y: [0 0 3 ... 0 2 8]\n",
            "Predictions [0 0 3 ... 0 2 8] Y: [0 0 3 ... 0 2 8]\n",
            "Predictions [0 0 3 ... 0 2 8] Y: [0 0 3 ... 0 2 8]\n",
            "Predictions [0 0 3 ... 0 2 8] Y: [0 0 3 ... 0 2 8]\n",
            "Predictions [0 0 3 ... 0 2 8] Y: [0 0 3 ... 0 2 8]\n",
            "Iteration : 660 Accuracy : 0.8694634146341463\n",
            "Predictions [0 0 3 ... 0 2 8] Y: [0 0 3 ... 0 2 8]\n",
            "Predictions [0 0 3 ... 0 2 8] Y: [0 0 3 ... 0 2 8]\n",
            "Predictions [0 0 3 ... 0 2 8] Y: [0 0 3 ... 0 2 8]\n",
            "Predictions [0 0 3 ... 0 2 8] Y: [0 0 3 ... 0 2 8]\n",
            "Predictions [0 0 3 ... 0 2 8] Y: [0 0 3 ... 0 2 8]\n",
            "Predictions [0 0 3 ... 0 2 8] Y: [0 0 3 ... 0 2 8]\n",
            "Predictions [0 0 3 ... 0 2 8] Y: [0 0 3 ... 0 2 8]\n",
            "Predictions [0 0 3 ... 0 2 8] Y: [0 0 3 ... 0 2 8]\n",
            "Predictions [0 0 3 ... 0 2 8] Y: [0 0 3 ... 0 2 8]\n",
            "Predictions [0 0 3 ... 0 2 8] Y: [0 0 3 ... 0 2 8]\n",
            "Iteration : 670 Accuracy : 0.8701707317073171\n",
            "Predictions [0 0 3 ... 0 2 8] Y: [0 0 3 ... 0 2 8]\n",
            "Predictions [0 0 3 ... 0 2 8] Y: [0 0 3 ... 0 2 8]\n",
            "Predictions [0 0 3 ... 0 2 8] Y: [0 0 3 ... 0 2 8]\n",
            "Predictions [0 0 3 ... 0 2 8] Y: [0 0 3 ... 0 2 8]\n",
            "Predictions [0 0 3 ... 0 2 8] Y: [0 0 3 ... 0 2 8]\n",
            "Predictions [0 0 3 ... 0 2 8] Y: [0 0 3 ... 0 2 8]\n",
            "Predictions [0 0 3 ... 0 2 8] Y: [0 0 3 ... 0 2 8]\n",
            "Predictions [0 0 3 ... 0 2 8] Y: [0 0 3 ... 0 2 8]\n",
            "Predictions [0 0 3 ... 0 2 8] Y: [0 0 3 ... 0 2 8]\n",
            "Predictions [0 0 3 ... 0 2 8] Y: [0 0 3 ... 0 2 8]\n",
            "Iteration : 680 Accuracy : 0.8708048780487805\n",
            "Predictions [0 0 3 ... 0 2 8] Y: [0 0 3 ... 0 2 8]\n",
            "Predictions [0 0 3 ... 0 2 8] Y: [0 0 3 ... 0 2 8]\n",
            "Predictions [0 0 3 ... 0 2 8] Y: [0 0 3 ... 0 2 8]\n",
            "Predictions [0 0 3 ... 0 2 8] Y: [0 0 3 ... 0 2 8]\n",
            "Predictions [0 0 3 ... 0 2 8] Y: [0 0 3 ... 0 2 8]\n",
            "Predictions [0 0 3 ... 0 2 8] Y: [0 0 3 ... 0 2 8]\n",
            "Predictions [0 0 3 ... 0 2 8] Y: [0 0 3 ... 0 2 8]\n",
            "Predictions [0 0 3 ... 0 2 8] Y: [0 0 3 ... 0 2 8]\n",
            "Predictions [0 0 3 ... 0 2 8] Y: [0 0 3 ... 0 2 8]\n",
            "Predictions [0 0 3 ... 0 2 8] Y: [0 0 3 ... 0 2 8]\n",
            "Iteration : 690 Accuracy : 0.8711219512195122\n",
            "Predictions [0 0 3 ... 0 2 8] Y: [0 0 3 ... 0 2 8]\n",
            "Predictions [0 0 3 ... 0 2 8] Y: [0 0 3 ... 0 2 8]\n",
            "Predictions [0 0 3 ... 0 2 8] Y: [0 0 3 ... 0 2 8]\n",
            "Predictions [0 0 3 ... 0 2 8] Y: [0 0 3 ... 0 2 8]\n",
            "Predictions [0 0 3 ... 0 2 8] Y: [0 0 3 ... 0 2 8]\n",
            "Predictions [0 0 3 ... 0 2 8] Y: [0 0 3 ... 0 2 8]\n",
            "Predictions [0 0 3 ... 0 2 8] Y: [0 0 3 ... 0 2 8]\n",
            "Predictions [0 0 3 ... 0 2 8] Y: [0 0 3 ... 0 2 8]\n",
            "Predictions [0 0 3 ... 0 2 8] Y: [0 0 3 ... 0 2 8]\n",
            "Predictions [0 0 3 ... 0 2 8] Y: [0 0 3 ... 0 2 8]\n",
            "Iteration : 700 Accuracy : 0.8716829268292683\n",
            "Predictions [0 0 3 ... 0 2 8] Y: [0 0 3 ... 0 2 8]\n",
            "Predictions [0 0 3 ... 0 2 8] Y: [0 0 3 ... 0 2 8]\n",
            "Predictions [0 0 3 ... 0 2 8] Y: [0 0 3 ... 0 2 8]\n",
            "Predictions [0 0 3 ... 0 2 8] Y: [0 0 3 ... 0 2 8]\n",
            "Predictions [0 0 3 ... 0 2 8] Y: [0 0 3 ... 0 2 8]\n",
            "Predictions [0 0 3 ... 0 2 8] Y: [0 0 3 ... 0 2 8]\n",
            "Predictions [0 0 3 ... 0 2 8] Y: [0 0 3 ... 0 2 8]\n",
            "Predictions [0 0 3 ... 0 2 8] Y: [0 0 3 ... 0 2 8]\n",
            "Predictions [0 0 3 ... 0 2 8] Y: [0 0 3 ... 0 2 8]\n",
            "Predictions [0 0 3 ... 0 2 8] Y: [0 0 3 ... 0 2 8]\n",
            "Iteration : 710 Accuracy : 0.8718048780487805\n",
            "Predictions [0 0 3 ... 0 2 8] Y: [0 0 3 ... 0 2 8]\n",
            "Predictions [0 0 3 ... 0 2 8] Y: [0 0 3 ... 0 2 8]\n",
            "Predictions [0 0 3 ... 0 2 8] Y: [0 0 3 ... 0 2 8]\n",
            "Predictions [0 0 3 ... 0 2 8] Y: [0 0 3 ... 0 2 8]\n",
            "Predictions [0 0 3 ... 0 2 8] Y: [0 0 3 ... 0 2 8]\n",
            "Predictions [0 0 3 ... 0 2 8] Y: [0 0 3 ... 0 2 8]\n",
            "Predictions [0 0 3 ... 0 2 8] Y: [0 0 3 ... 0 2 8]\n",
            "Predictions [0 0 3 ... 0 2 8] Y: [0 0 3 ... 0 2 8]\n",
            "Predictions [0 0 3 ... 0 2 8] Y: [0 0 3 ... 0 2 8]\n",
            "Predictions [0 0 3 ... 0 2 8] Y: [0 0 3 ... 0 2 8]\n",
            "Iteration : 720 Accuracy : 0.8721707317073171\n",
            "Predictions [0 0 3 ... 0 2 8] Y: [0 0 3 ... 0 2 8]\n",
            "Predictions [0 0 3 ... 0 2 8] Y: [0 0 3 ... 0 2 8]\n",
            "Predictions [0 0 3 ... 0 2 8] Y: [0 0 3 ... 0 2 8]\n",
            "Predictions [0 0 3 ... 0 2 8] Y: [0 0 3 ... 0 2 8]\n",
            "Predictions [0 0 3 ... 0 2 8] Y: [0 0 3 ... 0 2 8]\n",
            "Predictions [0 0 3 ... 0 2 8] Y: [0 0 3 ... 0 2 8]\n",
            "Predictions [0 0 3 ... 0 2 8] Y: [0 0 3 ... 0 2 8]\n",
            "Predictions [0 0 3 ... 0 2 8] Y: [0 0 3 ... 0 2 8]\n",
            "Predictions [0 0 3 ... 0 2 8] Y: [0 0 3 ... 0 2 8]\n",
            "Predictions [0 0 3 ... 0 2 8] Y: [0 0 3 ... 0 2 8]\n",
            "Iteration : 730 Accuracy : 0.8727317073170732\n",
            "Predictions [0 0 3 ... 0 2 8] Y: [0 0 3 ... 0 2 8]\n",
            "Predictions [0 0 3 ... 0 2 8] Y: [0 0 3 ... 0 2 8]\n",
            "Predictions [0 0 3 ... 0 2 8] Y: [0 0 3 ... 0 2 8]\n",
            "Predictions [0 0 3 ... 0 2 8] Y: [0 0 3 ... 0 2 8]\n",
            "Predictions [0 0 3 ... 0 2 8] Y: [0 0 3 ... 0 2 8]\n",
            "Predictions [0 0 3 ... 0 2 8] Y: [0 0 3 ... 0 2 8]\n",
            "Predictions [0 0 3 ... 0 2 8] Y: [0 0 3 ... 0 2 8]\n",
            "Predictions [0 0 3 ... 0 2 8] Y: [0 0 3 ... 0 2 8]\n",
            "Predictions [0 0 3 ... 0 2 8] Y: [0 0 3 ... 0 2 8]\n",
            "Predictions [0 0 3 ... 0 2 8] Y: [0 0 3 ... 0 2 8]\n",
            "Iteration : 740 Accuracy : 0.8733170731707317\n",
            "Predictions [0 0 3 ... 0 2 8] Y: [0 0 3 ... 0 2 8]\n",
            "Predictions [0 0 3 ... 0 2 8] Y: [0 0 3 ... 0 2 8]\n",
            "Predictions [0 0 3 ... 0 2 8] Y: [0 0 3 ... 0 2 8]\n",
            "Predictions [0 0 3 ... 0 2 8] Y: [0 0 3 ... 0 2 8]\n",
            "Predictions [0 0 3 ... 0 2 8] Y: [0 0 3 ... 0 2 8]\n",
            "Predictions [0 0 3 ... 0 2 8] Y: [0 0 3 ... 0 2 8]\n",
            "Predictions [0 0 3 ... 0 2 8] Y: [0 0 3 ... 0 2 8]\n",
            "Predictions [0 0 3 ... 0 2 8] Y: [0 0 3 ... 0 2 8]\n",
            "Predictions [0 0 3 ... 0 2 8] Y: [0 0 3 ... 0 2 8]\n",
            "Predictions [0 0 3 ... 0 2 8] Y: [0 0 3 ... 0 2 8]\n",
            "Iteration : 750 Accuracy : 0.8736585365853659\n",
            "Predictions [0 0 3 ... 0 2 8] Y: [0 0 3 ... 0 2 8]\n",
            "Predictions [0 0 3 ... 0 2 8] Y: [0 0 3 ... 0 2 8]\n",
            "Predictions [0 0 3 ... 0 2 8] Y: [0 0 3 ... 0 2 8]\n",
            "Predictions [0 0 3 ... 0 2 8] Y: [0 0 3 ... 0 2 8]\n",
            "Predictions [0 0 3 ... 0 2 8] Y: [0 0 3 ... 0 2 8]\n",
            "Predictions [0 0 3 ... 0 2 8] Y: [0 0 3 ... 0 2 8]\n",
            "Predictions [0 0 3 ... 0 2 8] Y: [0 0 3 ... 0 2 8]\n",
            "Predictions [0 0 3 ... 0 2 8] Y: [0 0 3 ... 0 2 8]\n",
            "Predictions [0 0 3 ... 0 2 8] Y: [0 0 3 ... 0 2 8]\n",
            "Predictions [0 0 3 ... 0 2 8] Y: [0 0 3 ... 0 2 8]\n",
            "Iteration : 760 Accuracy : 0.8738780487804878\n",
            "Predictions [0 0 3 ... 0 2 8] Y: [0 0 3 ... 0 2 8]\n",
            "Predictions [0 0 3 ... 0 2 8] Y: [0 0 3 ... 0 2 8]\n",
            "Predictions [0 0 3 ... 0 2 8] Y: [0 0 3 ... 0 2 8]\n",
            "Predictions [0 0 3 ... 0 2 8] Y: [0 0 3 ... 0 2 8]\n",
            "Predictions [0 0 3 ... 0 2 8] Y: [0 0 3 ... 0 2 8]\n",
            "Predictions [0 0 3 ... 0 2 8] Y: [0 0 3 ... 0 2 8]\n",
            "Predictions [0 0 3 ... 0 2 8] Y: [0 0 3 ... 0 2 8]\n",
            "Predictions [0 0 3 ... 0 2 8] Y: [0 0 3 ... 0 2 8]\n",
            "Predictions [0 0 3 ... 0 2 8] Y: [0 0 3 ... 0 2 8]\n",
            "Predictions [0 0 3 ... 0 2 8] Y: [0 0 3 ... 0 2 8]\n",
            "Iteration : 770 Accuracy : 0.8742926829268293\n",
            "Predictions [0 0 3 ... 0 2 8] Y: [0 0 3 ... 0 2 8]\n",
            "Predictions [0 0 3 ... 0 2 8] Y: [0 0 3 ... 0 2 8]\n",
            "Predictions [0 0 3 ... 0 2 8] Y: [0 0 3 ... 0 2 8]\n",
            "Predictions [0 0 3 ... 0 2 8] Y: [0 0 3 ... 0 2 8]\n",
            "Predictions [0 0 3 ... 0 2 8] Y: [0 0 3 ... 0 2 8]\n",
            "Predictions [0 0 3 ... 0 2 8] Y: [0 0 3 ... 0 2 8]\n",
            "Predictions [0 0 3 ... 0 2 8] Y: [0 0 3 ... 0 2 8]\n",
            "Predictions [0 0 3 ... 0 2 8] Y: [0 0 3 ... 0 2 8]\n",
            "Predictions [0 0 3 ... 0 2 8] Y: [0 0 3 ... 0 2 8]\n",
            "Predictions [0 0 3 ... 0 2 8] Y: [0 0 3 ... 0 2 8]\n",
            "Iteration : 780 Accuracy : 0.8745609756097561\n",
            "Predictions [0 0 3 ... 0 2 8] Y: [0 0 3 ... 0 2 8]\n",
            "Predictions [0 0 3 ... 0 2 8] Y: [0 0 3 ... 0 2 8]\n",
            "Predictions [0 0 3 ... 0 2 8] Y: [0 0 3 ... 0 2 8]\n",
            "Predictions [0 0 3 ... 0 2 8] Y: [0 0 3 ... 0 2 8]\n",
            "Predictions [0 0 3 ... 0 2 8] Y: [0 0 3 ... 0 2 8]\n",
            "Predictions [0 0 3 ... 0 2 8] Y: [0 0 3 ... 0 2 8]\n",
            "Predictions [0 0 3 ... 0 2 8] Y: [0 0 3 ... 0 2 8]\n",
            "Predictions [0 0 3 ... 0 2 8] Y: [0 0 3 ... 0 2 8]\n",
            "Predictions [0 0 3 ... 0 2 8] Y: [0 0 3 ... 0 2 8]\n",
            "Predictions [0 0 3 ... 0 2 8] Y: [0 0 3 ... 0 2 8]\n",
            "Iteration : 790 Accuracy : 0.8748292682926829\n",
            "Predictions [0 0 3 ... 0 2 8] Y: [0 0 3 ... 0 2 8]\n",
            "Predictions [0 0 3 ... 0 2 8] Y: [0 0 3 ... 0 2 8]\n",
            "Predictions [0 0 3 ... 0 2 8] Y: [0 0 3 ... 0 2 8]\n",
            "Predictions [0 0 3 ... 0 2 8] Y: [0 0 3 ... 0 2 8]\n",
            "Predictions [0 0 3 ... 0 2 8] Y: [0 0 3 ... 0 2 8]\n",
            "Predictions [0 0 3 ... 0 2 8] Y: [0 0 3 ... 0 2 8]\n",
            "Predictions [0 0 3 ... 0 2 8] Y: [0 0 3 ... 0 2 8]\n",
            "Predictions [0 0 3 ... 0 2 8] Y: [0 0 3 ... 0 2 8]\n",
            "Predictions [0 0 3 ... 0 2 8] Y: [0 0 3 ... 0 2 8]\n",
            "Predictions [0 0 3 ... 0 2 8] Y: [0 0 3 ... 0 2 8]\n",
            "Iteration : 800 Accuracy : 0.8752439024390244\n",
            "Predictions [0 0 3 ... 0 2 8] Y: [0 0 3 ... 0 2 8]\n",
            "Predictions [0 0 3 ... 0 2 8] Y: [0 0 3 ... 0 2 8]\n",
            "Predictions [0 0 3 ... 0 2 8] Y: [0 0 3 ... 0 2 8]\n",
            "Predictions [0 0 3 ... 0 2 8] Y: [0 0 3 ... 0 2 8]\n",
            "Predictions [0 0 3 ... 0 2 8] Y: [0 0 3 ... 0 2 8]\n",
            "Predictions [0 0 3 ... 0 2 8] Y: [0 0 3 ... 0 2 8]\n",
            "Predictions [0 0 3 ... 0 2 8] Y: [0 0 3 ... 0 2 8]\n",
            "Predictions [0 0 3 ... 0 2 8] Y: [0 0 3 ... 0 2 8]\n",
            "Predictions [0 0 3 ... 0 2 8] Y: [0 0 3 ... 0 2 8]\n",
            "Predictions [0 0 3 ... 0 2 8] Y: [0 0 3 ... 0 2 8]\n",
            "Iteration : 810 Accuracy : 0.8757073170731707\n",
            "Predictions [0 0 3 ... 0 2 8] Y: [0 0 3 ... 0 2 8]\n",
            "Predictions [0 0 3 ... 0 2 8] Y: [0 0 3 ... 0 2 8]\n",
            "Predictions [0 0 3 ... 0 2 8] Y: [0 0 3 ... 0 2 8]\n",
            "Predictions [0 0 3 ... 0 2 8] Y: [0 0 3 ... 0 2 8]\n",
            "Predictions [0 0 3 ... 0 2 8] Y: [0 0 3 ... 0 2 8]\n",
            "Predictions [0 0 3 ... 0 2 8] Y: [0 0 3 ... 0 2 8]\n",
            "Predictions [0 0 3 ... 0 2 8] Y: [0 0 3 ... 0 2 8]\n",
            "Predictions [0 0 3 ... 0 2 8] Y: [0 0 3 ... 0 2 8]\n",
            "Predictions [0 0 3 ... 0 2 8] Y: [0 0 3 ... 0 2 8]\n",
            "Predictions [0 0 3 ... 0 2 8] Y: [0 0 3 ... 0 2 8]\n",
            "Iteration : 820 Accuracy : 0.8762682926829268\n",
            "Predictions [0 0 3 ... 0 2 8] Y: [0 0 3 ... 0 2 8]\n",
            "Predictions [0 0 3 ... 0 2 8] Y: [0 0 3 ... 0 2 8]\n",
            "Predictions [0 0 3 ... 0 2 8] Y: [0 0 3 ... 0 2 8]\n",
            "Predictions [0 0 3 ... 0 2 8] Y: [0 0 3 ... 0 2 8]\n",
            "Predictions [0 0 3 ... 0 2 8] Y: [0 0 3 ... 0 2 8]\n",
            "Predictions [0 0 3 ... 0 2 8] Y: [0 0 3 ... 0 2 8]\n",
            "Predictions [0 0 3 ... 0 2 8] Y: [0 0 3 ... 0 2 8]\n",
            "Predictions [0 0 3 ... 0 2 8] Y: [0 0 3 ... 0 2 8]\n",
            "Predictions [0 0 3 ... 0 2 8] Y: [0 0 3 ... 0 2 8]\n",
            "Predictions [0 0 3 ... 0 2 8] Y: [0 0 3 ... 0 2 8]\n",
            "Iteration : 830 Accuracy : 0.8767317073170732\n",
            "Predictions [0 0 3 ... 0 2 8] Y: [0 0 3 ... 0 2 8]\n",
            "Predictions [0 0 3 ... 0 2 8] Y: [0 0 3 ... 0 2 8]\n",
            "Predictions [0 0 3 ... 0 2 8] Y: [0 0 3 ... 0 2 8]\n",
            "Predictions [0 0 3 ... 0 2 8] Y: [0 0 3 ... 0 2 8]\n",
            "Predictions [0 0 3 ... 0 2 8] Y: [0 0 3 ... 0 2 8]\n",
            "Predictions [0 0 3 ... 0 2 8] Y: [0 0 3 ... 0 2 8]\n",
            "Predictions [0 0 3 ... 0 2 8] Y: [0 0 3 ... 0 2 8]\n",
            "Predictions [0 0 3 ... 0 2 8] Y: [0 0 3 ... 0 2 8]\n",
            "Predictions [0 0 3 ... 0 2 8] Y: [0 0 3 ... 0 2 8]\n",
            "Predictions [0 0 3 ... 0 2 8] Y: [0 0 3 ... 0 2 8]\n",
            "Iteration : 840 Accuracy : 0.8769024390243902\n",
            "Predictions [0 0 3 ... 0 2 8] Y: [0 0 3 ... 0 2 8]\n",
            "Predictions [0 0 3 ... 0 2 8] Y: [0 0 3 ... 0 2 8]\n",
            "Predictions [0 0 3 ... 0 2 8] Y: [0 0 3 ... 0 2 8]\n",
            "Predictions [0 0 3 ... 0 2 8] Y: [0 0 3 ... 0 2 8]\n",
            "Predictions [0 0 3 ... 0 2 8] Y: [0 0 3 ... 0 2 8]\n",
            "Predictions [0 0 3 ... 0 2 8] Y: [0 0 3 ... 0 2 8]\n",
            "Predictions [0 0 3 ... 0 2 8] Y: [0 0 3 ... 0 2 8]\n",
            "Predictions [0 0 3 ... 0 2 8] Y: [0 0 3 ... 0 2 8]\n",
            "Predictions [0 0 3 ... 0 2 8] Y: [0 0 3 ... 0 2 8]\n",
            "Predictions [0 0 3 ... 0 2 8] Y: [0 0 3 ... 0 2 8]\n",
            "Iteration : 850 Accuracy : 0.8774634146341463\n",
            "Predictions [0 0 3 ... 0 2 8] Y: [0 0 3 ... 0 2 8]\n",
            "Predictions [0 0 3 ... 0 2 8] Y: [0 0 3 ... 0 2 8]\n",
            "Predictions [0 0 3 ... 0 2 8] Y: [0 0 3 ... 0 2 8]\n",
            "Predictions [0 0 3 ... 0 2 8] Y: [0 0 3 ... 0 2 8]\n",
            "Predictions [0 0 3 ... 0 2 8] Y: [0 0 3 ... 0 2 8]\n",
            "Predictions [0 0 3 ... 0 2 8] Y: [0 0 3 ... 0 2 8]\n",
            "Predictions [0 0 3 ... 0 2 8] Y: [0 0 3 ... 0 2 8]\n",
            "Predictions [0 0 3 ... 0 2 8] Y: [0 0 3 ... 0 2 8]\n",
            "Predictions [0 0 3 ... 0 2 8] Y: [0 0 3 ... 0 2 8]\n",
            "Predictions [0 0 3 ... 0 2 8] Y: [0 0 3 ... 0 2 8]\n",
            "Iteration : 860 Accuracy : 0.8777317073170732\n",
            "Predictions [0 0 3 ... 0 2 8] Y: [0 0 3 ... 0 2 8]\n",
            "Predictions [0 0 3 ... 0 2 8] Y: [0 0 3 ... 0 2 8]\n",
            "Predictions [0 0 3 ... 0 2 8] Y: [0 0 3 ... 0 2 8]\n",
            "Predictions [0 0 3 ... 0 2 8] Y: [0 0 3 ... 0 2 8]\n",
            "Predictions [0 0 3 ... 0 2 8] Y: [0 0 3 ... 0 2 8]\n",
            "Predictions [0 0 3 ... 0 2 8] Y: [0 0 3 ... 0 2 8]\n",
            "Predictions [0 0 3 ... 0 2 8] Y: [0 0 3 ... 0 2 8]\n",
            "Predictions [0 0 3 ... 0 2 8] Y: [0 0 3 ... 0 2 8]\n",
            "Predictions [0 0 3 ... 0 2 8] Y: [0 0 3 ... 0 2 8]\n",
            "Predictions [0 0 3 ... 0 2 8] Y: [0 0 3 ... 0 2 8]\n",
            "Iteration : 870 Accuracy : 0.8779756097560976\n",
            "Predictions [0 0 3 ... 0 2 8] Y: [0 0 3 ... 0 2 8]\n",
            "Predictions [0 0 3 ... 0 2 8] Y: [0 0 3 ... 0 2 8]\n",
            "Predictions [0 0 3 ... 0 2 8] Y: [0 0 3 ... 0 2 8]\n",
            "Predictions [0 0 3 ... 0 2 8] Y: [0 0 3 ... 0 2 8]\n",
            "Predictions [0 0 3 ... 0 2 8] Y: [0 0 3 ... 0 2 8]\n",
            "Predictions [0 0 3 ... 0 2 8] Y: [0 0 3 ... 0 2 8]\n",
            "Predictions [0 0 3 ... 0 2 8] Y: [0 0 3 ... 0 2 8]\n",
            "Predictions [0 0 3 ... 0 2 8] Y: [0 0 3 ... 0 2 8]\n",
            "Predictions [0 0 3 ... 0 2 8] Y: [0 0 3 ... 0 2 8]\n",
            "Predictions [0 0 3 ... 0 2 8] Y: [0 0 3 ... 0 2 8]\n",
            "Iteration : 880 Accuracy : 0.8784146341463415\n",
            "Predictions [0 0 3 ... 0 2 8] Y: [0 0 3 ... 0 2 8]\n",
            "Predictions [0 0 3 ... 0 2 8] Y: [0 0 3 ... 0 2 8]\n",
            "Predictions [0 0 3 ... 0 2 8] Y: [0 0 3 ... 0 2 8]\n",
            "Predictions [0 0 3 ... 0 2 8] Y: [0 0 3 ... 0 2 8]\n",
            "Predictions [0 0 3 ... 0 2 8] Y: [0 0 3 ... 0 2 8]\n",
            "Predictions [0 0 3 ... 0 2 8] Y: [0 0 3 ... 0 2 8]\n",
            "Predictions [0 0 3 ... 0 2 8] Y: [0 0 3 ... 0 2 8]\n",
            "Predictions [0 0 3 ... 0 2 8] Y: [0 0 3 ... 0 2 8]\n",
            "Predictions [0 0 3 ... 0 2 8] Y: [0 0 3 ... 0 2 8]\n",
            "Predictions [0 0 3 ... 0 2 8] Y: [0 0 3 ... 0 2 8]\n",
            "Iteration : 890 Accuracy : 0.8790243902439024\n",
            "Predictions [0 0 3 ... 0 2 8] Y: [0 0 3 ... 0 2 8]\n",
            "Predictions [0 0 3 ... 0 2 8] Y: [0 0 3 ... 0 2 8]\n",
            "Predictions [0 0 3 ... 0 2 8] Y: [0 0 3 ... 0 2 8]\n",
            "Predictions [0 0 3 ... 0 2 8] Y: [0 0 3 ... 0 2 8]\n",
            "Predictions [0 0 3 ... 0 2 8] Y: [0 0 3 ... 0 2 8]\n",
            "Predictions [0 0 3 ... 0 2 8] Y: [0 0 3 ... 0 2 8]\n",
            "Predictions [0 0 3 ... 0 2 8] Y: [0 0 3 ... 0 2 8]\n",
            "Predictions [0 0 3 ... 0 2 8] Y: [0 0 3 ... 0 2 8]\n",
            "Predictions [0 0 3 ... 0 2 8] Y: [0 0 3 ... 0 2 8]\n",
            "Predictions [0 0 3 ... 0 2 8] Y: [0 0 3 ... 0 2 8]\n",
            "Iteration : 900 Accuracy : 0.8793658536585366\n",
            "Predictions [0 0 3 ... 0 2 8] Y: [0 0 3 ... 0 2 8]\n",
            "Predictions [0 0 3 ... 0 2 8] Y: [0 0 3 ... 0 2 8]\n",
            "Predictions [0 0 3 ... 0 2 8] Y: [0 0 3 ... 0 2 8]\n",
            "Predictions [0 0 3 ... 0 2 8] Y: [0 0 3 ... 0 2 8]\n",
            "Predictions [0 0 3 ... 0 2 8] Y: [0 0 3 ... 0 2 8]\n",
            "Predictions [0 0 3 ... 0 2 8] Y: [0 0 3 ... 0 2 8]\n",
            "Predictions [0 0 3 ... 0 2 8] Y: [0 0 3 ... 0 2 8]\n",
            "Predictions [0 0 3 ... 0 2 8] Y: [0 0 3 ... 0 2 8]\n",
            "Predictions [0 0 3 ... 0 2 8] Y: [0 0 3 ... 0 2 8]\n",
            "Predictions [0 0 3 ... 0 2 8] Y: [0 0 3 ... 0 2 8]\n",
            "Iteration : 910 Accuracy : 0.8795853658536585\n",
            "Predictions [0 0 3 ... 0 2 8] Y: [0 0 3 ... 0 2 8]\n",
            "Predictions [0 0 3 ... 0 2 8] Y: [0 0 3 ... 0 2 8]\n",
            "Predictions [0 0 3 ... 0 2 8] Y: [0 0 3 ... 0 2 8]\n",
            "Predictions [0 0 3 ... 0 2 8] Y: [0 0 3 ... 0 2 8]\n",
            "Predictions [0 0 3 ... 0 2 8] Y: [0 0 3 ... 0 2 8]\n",
            "Predictions [0 0 3 ... 0 2 8] Y: [0 0 3 ... 0 2 8]\n",
            "Predictions [0 0 3 ... 0 2 8] Y: [0 0 3 ... 0 2 8]\n",
            "Predictions [0 0 3 ... 0 2 8] Y: [0 0 3 ... 0 2 8]\n",
            "Predictions [0 0 3 ... 0 2 8] Y: [0 0 3 ... 0 2 8]\n",
            "Predictions [0 0 3 ... 0 2 8] Y: [0 0 3 ... 0 2 8]\n",
            "Iteration : 920 Accuracy : 0.8798780487804878\n",
            "Predictions [0 0 3 ... 0 2 8] Y: [0 0 3 ... 0 2 8]\n",
            "Predictions [0 0 3 ... 0 2 8] Y: [0 0 3 ... 0 2 8]\n",
            "Predictions [0 0 3 ... 0 2 8] Y: [0 0 3 ... 0 2 8]\n",
            "Predictions [0 0 3 ... 0 2 8] Y: [0 0 3 ... 0 2 8]\n",
            "Predictions [0 0 3 ... 0 2 8] Y: [0 0 3 ... 0 2 8]\n",
            "Predictions [0 0 3 ... 0 2 8] Y: [0 0 3 ... 0 2 8]\n",
            "Predictions [0 0 3 ... 0 2 8] Y: [0 0 3 ... 0 2 8]\n",
            "Predictions [0 0 3 ... 0 2 8] Y: [0 0 3 ... 0 2 8]\n",
            "Predictions [0 0 3 ... 0 2 8] Y: [0 0 3 ... 0 2 8]\n",
            "Predictions [0 0 3 ... 0 2 8] Y: [0 0 3 ... 0 2 8]\n",
            "Iteration : 930 Accuracy : 0.8800731707317073\n",
            "Predictions [0 0 3 ... 0 2 8] Y: [0 0 3 ... 0 2 8]\n",
            "Predictions [0 0 3 ... 0 2 8] Y: [0 0 3 ... 0 2 8]\n",
            "Predictions [0 0 3 ... 0 2 8] Y: [0 0 3 ... 0 2 8]\n",
            "Predictions [0 0 3 ... 0 2 8] Y: [0 0 3 ... 0 2 8]\n",
            "Predictions [0 0 3 ... 0 2 8] Y: [0 0 3 ... 0 2 8]\n",
            "Predictions [0 0 3 ... 0 2 8] Y: [0 0 3 ... 0 2 8]\n",
            "Predictions [0 0 3 ... 0 2 8] Y: [0 0 3 ... 0 2 8]\n",
            "Predictions [0 0 3 ... 0 2 8] Y: [0 0 3 ... 0 2 8]\n",
            "Predictions [0 0 3 ... 0 2 8] Y: [0 0 3 ... 0 2 8]\n",
            "Predictions [0 0 3 ... 0 2 8] Y: [0 0 3 ... 0 2 8]\n",
            "Iteration : 940 Accuracy : 0.880219512195122\n",
            "Predictions [0 0 3 ... 0 2 8] Y: [0 0 3 ... 0 2 8]\n",
            "Predictions [0 0 3 ... 0 2 8] Y: [0 0 3 ... 0 2 8]\n",
            "Predictions [0 0 3 ... 0 2 8] Y: [0 0 3 ... 0 2 8]\n",
            "Predictions [0 0 3 ... 0 2 8] Y: [0 0 3 ... 0 2 8]\n",
            "Predictions [0 0 3 ... 0 2 8] Y: [0 0 3 ... 0 2 8]\n",
            "Predictions [0 0 3 ... 0 2 8] Y: [0 0 3 ... 0 2 8]\n",
            "Predictions [0 0 3 ... 0 2 8] Y: [0 0 3 ... 0 2 8]\n",
            "Predictions [0 0 3 ... 0 2 8] Y: [0 0 3 ... 0 2 8]\n",
            "Predictions [0 0 3 ... 0 2 8] Y: [0 0 3 ... 0 2 8]\n",
            "Predictions [0 0 3 ... 0 2 8] Y: [0 0 3 ... 0 2 8]\n",
            "Iteration : 950 Accuracy : 0.8806829268292683\n",
            "Predictions [0 0 3 ... 0 2 8] Y: [0 0 3 ... 0 2 8]\n",
            "Predictions [0 0 3 ... 0 2 8] Y: [0 0 3 ... 0 2 8]\n",
            "Predictions [0 0 3 ... 0 2 8] Y: [0 0 3 ... 0 2 8]\n",
            "Predictions [0 0 3 ... 0 2 8] Y: [0 0 3 ... 0 2 8]\n",
            "Predictions [0 0 3 ... 0 2 8] Y: [0 0 3 ... 0 2 8]\n",
            "Predictions [0 0 3 ... 0 2 8] Y: [0 0 3 ... 0 2 8]\n",
            "Predictions [0 0 3 ... 0 2 8] Y: [0 0 3 ... 0 2 8]\n",
            "Predictions [0 0 3 ... 0 2 8] Y: [0 0 3 ... 0 2 8]\n",
            "Predictions [0 0 3 ... 0 2 8] Y: [0 0 3 ... 0 2 8]\n",
            "Predictions [0 0 3 ... 0 2 8] Y: [0 0 3 ... 0 2 8]\n",
            "Iteration : 960 Accuracy : 0.8809512195121951\n",
            "Predictions [0 0 3 ... 0 2 8] Y: [0 0 3 ... 0 2 8]\n",
            "Predictions [0 0 3 ... 0 2 8] Y: [0 0 3 ... 0 2 8]\n",
            "Predictions [0 0 3 ... 0 2 8] Y: [0 0 3 ... 0 2 8]\n",
            "Predictions [0 0 3 ... 0 2 8] Y: [0 0 3 ... 0 2 8]\n",
            "Predictions [0 0 3 ... 0 2 8] Y: [0 0 3 ... 0 2 8]\n",
            "Predictions [0 0 3 ... 0 2 8] Y: [0 0 3 ... 0 2 8]\n",
            "Predictions [0 0 3 ... 0 2 8] Y: [0 0 3 ... 0 2 8]\n",
            "Predictions [0 0 3 ... 0 2 8] Y: [0 0 3 ... 0 2 8]\n",
            "Predictions [0 0 3 ... 0 2 8] Y: [0 0 3 ... 0 2 8]\n",
            "Predictions [0 0 3 ... 0 2 8] Y: [0 0 3 ... 0 2 8]\n",
            "Iteration : 970 Accuracy : 0.8811463414634146\n",
            "Predictions [0 0 3 ... 0 2 8] Y: [0 0 3 ... 0 2 8]\n",
            "Predictions [0 0 3 ... 0 2 8] Y: [0 0 3 ... 0 2 8]\n",
            "Predictions [0 0 3 ... 0 2 8] Y: [0 0 3 ... 0 2 8]\n",
            "Predictions [0 0 3 ... 0 2 8] Y: [0 0 3 ... 0 2 8]\n",
            "Predictions [0 0 3 ... 0 2 8] Y: [0 0 3 ... 0 2 8]\n",
            "Predictions [0 0 3 ... 0 2 8] Y: [0 0 3 ... 0 2 8]\n",
            "Predictions [0 0 3 ... 0 2 8] Y: [0 0 3 ... 0 2 8]\n",
            "Predictions [0 0 3 ... 0 2 8] Y: [0 0 3 ... 0 2 8]\n",
            "Predictions [0 0 3 ... 0 2 8] Y: [0 0 3 ... 0 2 8]\n",
            "Predictions [0 0 3 ... 0 2 8] Y: [0 0 3 ... 0 2 8]\n",
            "Iteration : 980 Accuracy : 0.8814634146341463\n",
            "Predictions [0 0 3 ... 0 2 8] Y: [0 0 3 ... 0 2 8]\n",
            "Predictions [0 0 3 ... 0 2 8] Y: [0 0 3 ... 0 2 8]\n",
            "Predictions [0 0 3 ... 0 2 8] Y: [0 0 3 ... 0 2 8]\n",
            "Predictions [0 0 3 ... 0 2 8] Y: [0 0 3 ... 0 2 8]\n",
            "Predictions [0 0 3 ... 0 2 8] Y: [0 0 3 ... 0 2 8]\n",
            "Predictions [0 0 3 ... 0 2 8] Y: [0 0 3 ... 0 2 8]\n",
            "Predictions [0 0 3 ... 0 2 8] Y: [0 0 3 ... 0 2 8]\n",
            "Predictions [0 0 3 ... 0 2 8] Y: [0 0 3 ... 0 2 8]\n",
            "Predictions [0 0 3 ... 0 2 8] Y: [0 0 3 ... 0 2 8]\n",
            "Predictions [0 0 3 ... 0 2 8] Y: [0 0 3 ... 0 2 8]\n",
            "Iteration : 990 Accuracy : 0.8817317073170732\n",
            "Predictions [0 0 3 ... 0 2 8] Y: [0 0 3 ... 0 2 8]\n",
            "Predictions [0 0 3 ... 0 2 8] Y: [0 0 3 ... 0 2 8]\n",
            "Predictions [0 0 3 ... 0 2 8] Y: [0 0 3 ... 0 2 8]\n",
            "Predictions [0 0 3 ... 0 2 8] Y: [0 0 3 ... 0 2 8]\n",
            "Predictions [0 0 3 ... 0 2 8] Y: [0 0 3 ... 0 2 8]\n",
            "Predictions [0 0 3 ... 0 2 8] Y: [0 0 3 ... 0 2 8]\n",
            "Predictions [0 0 3 ... 0 2 8] Y: [0 0 3 ... 0 2 8]\n",
            "Predictions [0 0 3 ... 0 2 8] Y: [0 0 3 ... 0 2 8]\n",
            "Predictions [0 0 3 ... 0 2 8] Y: [0 0 3 ... 0 2 8]\n"
          ]
        },
        {
          "data": {
            "image/png": "[encoded data removed]",
            "text/plain": [
              "<Figure size 432x288 with 1 Axes>"
            ]
          },
          "metadata": {
            "needs_background": "light"
          },
          "output_type": "display_data"
        }
      ],
      "source": [
        "W1, b1, W2, b2 = gradient_descent(X_train, Y_train, 0.10, 1000)"
      ]
    },
    {
      "cell_type": "markdown",
      "metadata": {
        "id": "4Oqw___fAa0U"
      },
      "source": [
        "## 10. Visualize results"
      ]
    },
    {
      "cell_type": "code",
      "execution_count": null,
      "metadata": {
        "id": "z3IKZBEvAa0V",
        "outputId": "5090a958-5bff-4b45-ce9f-3391976e2203"
      },
      "outputs": [
        {
          "name": "stdout",
          "output_type": "stream",
          "text": [
            "Prediction: [2] Label : 2\n"
          ]
        },
        {
          "data": {
            "image/png": "[encoded data removed]",
            "text/plain": [
              "<Figure size 432x288 with 1 Axes>"
            ]
          },
          "metadata": {
            "needs_background": "light"
          },
          "output_type": "display_data"
        },
        {
          "name": "stdout",
          "output_type": "stream",
          "text": [
            "Prediction: [6] Label : 6\n"
          ]
        },
        {
          "data": {
            "image/png": "[encoded data removed]",
            "text/plain": [
              "<Figure size 432x288 with 1 Axes>"
            ]
          },
          "metadata": {
            "needs_background": "light"
          },
          "output_type": "display_data"
        },
        {
          "name": "stdout",
          "output_type": "stream",
          "text": [
            "Prediction: [5] Label : 5\n"
          ]
        },
        {
          "data": {
            "image/png": "[encoded data removed]",
            "text/plain": [
              "<Figure size 432x288 with 1 Axes>"
            ]
          },
          "metadata": {
            "needs_background": "light"
          },
          "output_type": "display_data"
        },
        {
          "name": "stdout",
          "output_type": "stream",
          "text": [
            "Prediction: [5] Label : 6\n"
          ]
        },
        {
          "data": {
            "image/png": "[encoded data removed]",
            "text/plain": [
              "<Figure size 432x288 with 1 Axes>"
            ]
          },
          "metadata": {
            "needs_background": "light"
          },
          "output_type": "display_data"
        },
        {
          "name": "stdout",
          "output_type": "stream",
          "text": [
            "Prediction: [2] Label : 2\n"
          ]
        },
        {
          "data": {
            "image/png": "[encoded data removed]",
            "text/plain": [
              "<Figure size 432x288 with 1 Axes>"
            ]
          },
          "metadata": {
            "needs_background": "light"
          },
          "output_type": "display_data"
        },
        {
          "name": "stdout",
          "output_type": "stream",
          "text": [
            "Prediction: [3] Label : 3\n"
          ]
        },
        {
          "data": {
            "image/png": "[encoded data removed]",
            "text/plain": [
              "<Figure size 432x288 with 1 Axes>"
            ]
          },
          "metadata": {
            "needs_background": "light"
          },
          "output_type": "display_data"
        },
        {
          "name": "stdout",
          "output_type": "stream",
          "text": [
            "Prediction: [6] Label : 6\n"
          ]
        },
        {
          "data": {
            "image/png": "[encoded data removed]",
            "text/plain": [
              "<Figure size 432x288 with 1 Axes>"
            ]
          },
          "metadata": {
            "needs_background": "light"
          },
          "output_type": "display_data"
        },
        {
          "name": "stdout",
          "output_type": "stream",
          "text": [
            "Prediction: [2] Label : 2\n"
          ]
        },
        {
          "data": {
            "image/png": "[encoded data removed]",
            "text/plain": [
              "<Figure size 432x288 with 1 Axes>"
            ]
          },
          "metadata": {
            "needs_background": "light"
          },
          "output_type": "display_data"
        },
        {
          "name": "stdout",
          "output_type": "stream",
          "text": [
            "Prediction: [2] Label : 2\n"
          ]
        },
        {
          "data": {
            "image/png": "[encoded data removed]",
            "text/plain": [
              "<Figure size 432x288 with 1 Axes>"
            ]
          },
          "metadata": {
            "needs_background": "light"
          },
          "output_type": "display_data"
        },
        {
          "name": "stdout",
          "output_type": "stream",
          "text": [
            "Prediction: [1] Label : 1\n"
          ]
        },
        {
          "data": {
            "image/png": "[encoded data removed]",
            "text/plain": [
              "<Figure size 432x288 with 1 Axes>"
            ]
          },
          "metadata": {
            "needs_background": "light"
          },
          "output_type": "display_data"
        },
        {
          "name": "stdout",
          "output_type": "stream",
          "text": [
            "Prediction: [0] Label : 0\n"
          ]
        },
        {
          "data": {
            "image/png": "[encoded data removed]",
            "text/plain": [
              "<Figure size 432x288 with 1 Axes>"
            ]
          },
          "metadata": {
            "needs_background": "light"
          },
          "output_type": "display_data"
        },
        {
          "name": "stdout",
          "output_type": "stream",
          "text": [
            "Prediction: [6] Label : 6\n"
          ]
        },
        {
          "data": {
            "image/png": "[encoded data removed]",
            "text/plain": [
              "<Figure size 432x288 with 1 Axes>"
            ]
          },
          "metadata": {
            "needs_background": "light"
          },
          "output_type": "display_data"
        },
        {
          "name": "stdout",
          "output_type": "stream",
          "text": [
            "Prediction: [7] Label : 7\n"
          ]
        },
        {
          "data": {
            "image/png": "[encoded data removed]",
            "text/plain": [
              "<Figure size 432x288 with 1 Axes>"
            ]
          },
          "metadata": {
            "needs_background": "light"
          },
          "output_type": "display_data"
        },
        {
          "name": "stdout",
          "output_type": "stream",
          "text": [
            "Prediction: [3] Label : 3\n"
          ]
        },
        {
          "data": {
            "image/png": "[encoded data removed]",
            "text/plain": [
              "<Figure size 432x288 with 1 Axes>"
            ]
          },
          "metadata": {
            "needs_background": "light"
          },
          "output_type": "display_data"
        },
        {
          "name": "stdout",
          "output_type": "stream",
          "text": [
            "Prediction: [0] Label : 0\n"
          ]
        },
        {
          "data": {
            "image/png": "[encoded data removed]",
            "text/plain": [
              "<Figure size 432x288 with 1 Axes>"
            ]
          },
          "metadata": {
            "needs_background": "light"
          },
          "output_type": "display_data"
        },
        {
          "name": "stdout",
          "output_type": "stream",
          "text": [
            "Prediction: [6] Label : 6\n"
          ]
        },
        {
          "data": {
            "image/png": "[encoded data removed]",
            "text/plain": [
              "<Figure size 432x288 with 1 Axes>"
            ]
          },
          "metadata": {
            "needs_background": "light"
          },
          "output_type": "display_data"
        },
        {
          "name": "stdout",
          "output_type": "stream",
          "text": [
            "Prediction: [4] Label : 4\n"
          ]
        },
        {
          "data": {
            "image/png": "[encoded data removed]",
            "text/plain": [
              "<Figure size 432x288 with 1 Axes>"
            ]
          },
          "metadata": {
            "needs_background": "light"
          },
          "output_type": "display_data"
        },
        {
          "name": "stdout",
          "output_type": "stream",
          "text": [
            "Prediction: [2] Label : 2\n"
          ]
        },
        {
          "data": {
            "image/png": "[encoded data removed]",
            "text/plain": [
              "<Figure size 432x288 with 1 Axes>"
            ]
          },
          "metadata": {
            "needs_background": "light"
          },
          "output_type": "display_data"
        },
        {
          "name": "stdout",
          "output_type": "stream",
          "text": [
            "Prediction: [7] Label : 7\n"
          ]
        },
        {
          "data": {
            "image/png": "[encoded data removed]",
            "text/plain": [
              "<Figure size 432x288 with 1 Axes>"
            ]
          },
          "metadata": {
            "needs_background": "light"
          },
          "output_type": "display_data"
        },
        {
          "name": "stdout",
          "output_type": "stream",
          "text": [
            "Prediction: [8] Label : 8\n"
          ]
        },
        {
          "data": {
            "image/png": "[encoded data removed]",
            "text/plain": [
              "<Figure size 432x288 with 1 Axes>"
            ]
          },
          "metadata": {
            "needs_background": "light"
          },
          "output_type": "display_data"
        },
        {
          "name": "stdout",
          "output_type": "stream",
          "text": [
            "Prediction: [2] Label : 2\n"
          ]
        },
        {
          "data": {
            "image/png": "[encoded data removed]",
            "text/plain": [
              "<Figure size 432x288 with 1 Axes>"
            ]
          },
          "metadata": {
            "needs_background": "light"
          },
          "output_type": "display_data"
        },
        {
          "name": "stdout",
          "output_type": "stream",
          "text": [
            "Prediction: [1] Label : 1\n"
          ]
        },
        {
          "data": {
            "image/png": "[encoded data removed]",
            "text/plain": [
              "<Figure size 432x288 with 1 Axes>"
            ]
          },
          "metadata": {
            "needs_background": "light"
          },
          "output_type": "display_data"
        },
        {
          "name": "stdout",
          "output_type": "stream",
          "text": [
            "Prediction: [0] Label : 0\n"
          ]
        },
        {
          "data": {
            "image/png": "[encoded data removed]",
            "text/plain": [
              "<Figure size 432x288 with 1 Axes>"
            ]
          },
          "metadata": {
            "needs_background": "light"
          },
          "output_type": "display_data"
        },
        {
          "name": "stdout",
          "output_type": "stream",
          "text": [
            "Prediction: [0] Label : 5\n"
          ]
        },
        {
          "data": {
            "image/png": "[encoded data removed]",
            "text/plain": [
              "<Figure size 432x288 with 1 Axes>"
            ]
          },
          "metadata": {
            "needs_background": "light"
          },
          "output_type": "display_data"
        },
        {
          "name": "stdout",
          "output_type": "stream",
          "text": [
            "Prediction: [8] Label : 8\n"
          ]
        },
        {
          "data": {
            "image/png": "[encoded data removed]",
            "text/plain": [
              "<Figure size 432x288 with 1 Axes>"
            ]
          },
          "metadata": {
            "needs_background": "light"
          },
          "output_type": "display_data"
        },
        {
          "name": "stdout",
          "output_type": "stream",
          "text": [
            "Prediction: [3] Label : 3\n"
          ]
        },
        {
          "data": {
            "image/png": "[encoded data removed]",
            "text/plain": [
              "<Figure size 432x288 with 1 Axes>"
            ]
          },
          "metadata": {
            "needs_background": "light"
          },
          "output_type": "display_data"
        },
        {
          "name": "stdout",
          "output_type": "stream",
          "text": [
            "Prediction: [7] Label : 7\n"
          ]
        },
        {
          "data": {
            "image/png": "[encoded data removed]",
            "text/plain": [
              "<Figure size 432x288 with 1 Axes>"
            ]
          },
          "metadata": {
            "needs_background": "light"
          },
          "output_type": "display_data"
        },
        {
          "name": "stdout",
          "output_type": "stream",
          "text": [
            "Prediction: [0] Label : 0\n"
          ]
        },
        {
          "data": {
            "image/png": "[encoded data removed]",
            "text/plain": [
              "<Figure size 432x288 with 1 Axes>"
            ]
          },
          "metadata": {
            "needs_background": "light"
          },
          "output_type": "display_data"
        },
        {
          "name": "stdout",
          "output_type": "stream",
          "text": [
            "Prediction: [0] Label : 0\n"
          ]
        },
        {
          "data": {
            "image/png": "[encoded data removed]",
            "text/plain": [
              "<Figure size 432x288 with 1 Axes>"
            ]
          },
          "metadata": {
            "needs_background": "light"
          },
          "output_type": "display_data"
        },
        {
          "name": "stdout",
          "output_type": "stream",
          "text": [
            "Prediction: [6] Label : 6\n"
          ]
        },
        {
          "data": {
            "image/png": "[encoded data removed]",
            "text/plain": [
              "<Figure size 432x288 with 1 Axes>"
            ]
          },
          "metadata": {
            "needs_background": "light"
          },
          "output_type": "display_data"
        }
      ],
      "source": [
        "from random import randint\n",
        "\n",
        "\n",
        "def make_predictions(X, W1, b1, W2, b2):\n",
        "    _, _, _, A2 = foward_propagation(W1, b1, W2, b2, X)\n",
        "    precictions = get_predictions(A2)\n",
        "    return precictions\n",
        "\n",
        "def test_prediction(index, W1, b1, W2, b2):\n",
        "    current_image = X_train[:, index, None]\n",
        "    prediction = make_predictions(X_train[:, index, None], W1, b1, W2, b2)\n",
        "    label = Y_train[index]\n",
        "    print(f\"Prediction: {prediction} Label : {label}\")\n",
        "\n",
        "    # Shows the image.\n",
        "    current_image = current_image.reshape((28, 28)) * 255   \n",
        "    pyplot.gray()\n",
        "    pyplot.imshow(current_image, interpolation='nearest')\n",
        "    pyplot.show()\n",
        "\n",
        "\n",
        "random.seed(1)\n",
        "for i in range(30):\n",
        "    test_prediction(randint(1, N), W1, b1, W2, b2)"
      ]
    }
  ],
  "metadata": {
    "kernelspec": {
      "display_name": "Python 3.10.5 64-bit",
      "language": "python",
      "name": "python3"
    },
    "language_info": {
      "codemirror_mode": {
        "name": "ipython",
        "version": 3
      },
      "file_extension": ".py",
      "mimetype": "text/x-python",
      "name": "python",
      "nbconvert_exporter": "python",
      "pygments_lexer": "ipython3",
      "version": "3.10.5"
    },
    "orig_nbformat": 4,
    "vscode": {
      "interpreter": {
        "hash": "e7370f93d1d0cde622a1f8e1c04877d8463912d04d973331ad4851f04de6915a"
      }
    },
    "colab": {
      "provenance": [],
      "include_colab_link": true
    }
  },
  "nbformat": 4,
  "nbformat_minor": 0
}